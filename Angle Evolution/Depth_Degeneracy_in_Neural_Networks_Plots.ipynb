{
  "cells": [
    {
      "cell_type": "markdown",
      "source": [
        "# Depth Degeneracy in Neural Networks\n",
        "This notebook contains the code used to produce Figure 1 of *Depth Degeneracy in Neural Networks: Vanishing Angles in Fully Connected ReLU Networks on Initialization* by Jakub and Nica (2023).\n",
        "\n",
        "Author: Cameron Jakub"
      ],
      "metadata": {
        "id": "OmpOa0ZVT0CA"
      }
    },
    {
      "cell_type": "code",
      "execution_count": 1,
      "metadata": {
        "id": "OscYo56EM9PF"
      },
      "outputs": [],
      "source": [
        "#Import packages\n",
        "import numpy as np\n",
        "import time\n",
        "import math\n",
        "import scipy\n",
        "import matplotlib.pyplot as plt\n",
        "\n",
        "from jax import random\n",
        "from jax import nn\n",
        "from scipy import stats\n",
        "from tqdm.notebook import tqdm_notebook"
      ]
    },
    {
      "cell_type": "markdown",
      "metadata": {
        "id": "C5lQjYjPHj_N"
      },
      "source": [
        "Here, we define necessary functions which we will use to simulate initialized neural networks. The `norm2` function is used to calculate the $\\ell_2$ norm of the hidden layers. We use the `einsum` function to quickly calculate this norm for many neural networks ran at once. The input into the `norm2` function is an array of shape  `N_width` $\\times$ `N_samples`, where `N_width` is the number of neurons in the hidden layers of the network, and `N_samples` is the number of neural network simulations we are running simultaneously. This function returns a `1` $\\times$ `N_samples` array, which we will call $N$.\n",
        "\n",
        "For an input $z$, entry $k$ of the array $N$ is given by\n",
        "\n",
        "$$N_k = \\sum_{i=1}^{\\texttt{N_width}} z_{i,k}^2, $$\n",
        "\n",
        "where $z_{i,k}$ represents node $i$ of the current hidden layer, for sample number $k$."
      ]
    },
    {
      "cell_type": "code",
      "execution_count": 2,
      "metadata": {
        "id": "5wCEwYqoNCZx"
      },
      "outputs": [],
      "source": [
        "def norm2(z):\n",
        "  return np.einsum(\"is,is->s\",z,z)\n",
        "\n",
        "def norm(z):\n",
        " return np.sqrt(norm2(z))\n",
        "\n",
        "def unit_vector(z):\n",
        "  return z/np.linalg.norm(z)\n",
        "\n",
        "def angle_calc(v,w):\n",
        "  return np.einsum('is,is -> s',v,w) / (norm(v)*norm(w))"
      ]
    },
    {
      "cell_type": "markdown",
      "metadata": {
        "id": "5CbPImS9O9TX"
      },
      "source": [
        "# Initialize inputs $x_\\alpha$, $x_\\beta$\n",
        "\n",
        "We want to create 2 inputs into our neural networks that have a desired angle $\\theta^0$ between them. To do this, we let\n",
        "\n",
        "$$x_\\alpha  = (1,0,0,0,...,0) $$\n",
        "\n",
        "$$ x_\\beta = (\\cos \\theta^0 , \\sin \\theta^0 ,0,0,0,...,0 ). $$\n",
        "\n",
        "To convince ourselves this works, note that the angle $\\theta$ between $x_\\alpha$ and $x_\\beta$ satisfies the following equation:\n",
        "\n",
        "$$\\cos (\\theta) = \\frac{ \\langle x_\\alpha, x_\\beta \\rangle}{\\|x_\\alpha\\| \\|x_\\beta\\|}.$$\n",
        "\n",
        "Solving for the right hand side of that equation, we get\n",
        "\n",
        "$$\\frac{1 \\cdot \\cos (\\theta^0) + 0 \\cdot \\sin(\\theta^0) + 0\\;+\\; ... \\;+\\; 0}{(1^2)(\\cos^2(\\theta^0) + \\sin^2(\\theta^0))} = \\cos(\\theta^0). $$\n",
        "\n",
        "We see that the angle between $x_\\alpha$ and $x_\\beta$ is given by $\\theta^0$, as desired.\n"
      ]
    },
    {
      "cell_type": "code",
      "execution_count": 3,
      "metadata": {
        "id": "S2rdB88AOOVs"
      },
      "outputs": [],
      "source": [
        "N_width = 2**8 #network width\n",
        "N_depth = 2**5 #network depth\n",
        "N_samples = 5000\n",
        "\n",
        "# Set the initial angle inputs\n",
        "theta_init = 0.1\n",
        "\n",
        "# x_alpha = (1,0,0,0,...,0)\n",
        "x_alpha = np.zeros((N_width,1))\n",
        "x_alpha[0] = 1\n",
        "\n",
        "# x_beta = (cos(theta), sin(theta),0,0,0,...,0)\n",
        "x_beta = np.zeros((N_width,1))\n",
        "x_beta[0] = np.cos(theta_init)\n",
        "x_beta[1] = np.sin(theta_init)\n",
        "\n",
        "# Repeat vectors N_samples times, so we can run many networks simultaneously\n",
        "z_alpha = np.tile(x_alpha, N_samples)\n",
        "z_beta = np.tile(x_beta, N_samples)"
      ]
    },
    {
      "cell_type": "markdown",
      "metadata": {
        "id": "wMQInj86H1Br"
      },
      "source": [
        "# Run the Neural Network\n",
        "Here, we take the 2 inputs we created, and feed them through the layers of each network on initialization. Networks are initialized using scaled Gaussian weights. To get from layer $\\ell$ to layer $\\ell+1$, we apply the ReLU activation function ($\\varphi(x)$), multiply by a randomized weight matrix $W^{\\ell+1}$, and apply the \"He\" normalization constant $\\sqrt{2/n_\\ell}$ (He et al., 2015). We will denote each layer as $z_\\ell$.\n",
        "\n",
        "$$z_{\\ell+1} = \\sqrt{\\frac{2}{n_\\ell}} W^{\\ell+1} \\varphi(z_\\ell). $$"
      ]
    },
    {
      "cell_type": "code",
      "execution_count": 4,
      "metadata": {
        "colab": {
          "base_uri": "https://localhost:8080/",
          "height": 49,
          "referenced_widgets": [
            "98ff4cea89ef4169a46379d61036548f",
            "b46a39ac829a4634ab4735fc0b254beb",
            "dbbc5f171cac4f9d8f995e9da9fef9f6",
            "0def53f3313848bd9dff08c36c84abc0",
            "8c723e78e1a54e33bcdc398eb82440f1",
            "2c6fcf5941c04c73a4e28333fdb77db5",
            "5d6214179a6645a3beb0f4c90dc6bebd",
            "e401e161ca154b01b9115377dd790968",
            "ef99d8ad67194d71b8bff09f516845bf",
            "4cdea1688d004cb0b0e571bc9cc5a2c8",
            "3c95ac31d8b94adbafbd07a7daaa8063"
          ]
        },
        "id": "Yc0Bg7OMH2TT",
        "outputId": "e738ff28-f078-41b6-cfb2-619f3fa75b3e"
      },
      "outputs": [
        {
          "output_type": "display_data",
          "data": {
            "text/plain": [
              "  0%|          | 0/32 [00:00<?, ?it/s]"
            ],
            "application/vnd.jupyter.widget-view+json": {
              "version_major": 2,
              "version_minor": 0,
              "model_id": "98ff4cea89ef4169a46379d61036548f"
            }
          },
          "metadata": {}
        }
      ],
      "source": [
        "# Set random keys\n",
        "key = random.PRNGKey(int(time.time()))\n",
        "keys = random.split(key, N_depth)\n",
        "\n",
        "# Initialize variables\n",
        "cos_theta = np.zeros((N_depth, N_samples))\n",
        "sin_theta = np.zeros((N_depth, N_samples))\n",
        "\n",
        "# Propagate the inputs through the neural net\n",
        "for layer in tqdm_notebook(range(N_depth)):\n",
        "  # Set random keys\n",
        "  key1, key2 = random.split(keys[layer], 2)\n",
        "\n",
        "  # Apply ReLU function\n",
        "  phi_alpha = nn.relu(z_alpha)\n",
        "  phi_beta = nn.relu(z_beta)\n",
        "\n",
        "  # Calculate initial norms\n",
        "  normsq_alpha_init = norm2(phi_alpha)\n",
        "  normsq_beta_init = norm2(phi_beta)\n",
        "\n",
        "  # Calculate correlation between phi_alpha, phi_beta\n",
        "  cos_theta[layer] = angle_calc(phi_alpha, phi_beta)\n",
        "  cos_theta[layer] = np.clip(cos_theta[layer], -1, 1)\n",
        "  sin_theta[layer] = np.sqrt(1-cos_theta[layer]**2)\n",
        "\n",
        "  # Create random matrix of weights (normalized)\n",
        "  W = random.normal(keys[layer],(N_width,N_width,N_samples))*math.sqrt(2/N_width)\n",
        "\n",
        "  # The below performs matrix-vector multiplication between weight matrix W and layer phi N_samples_run times,\n",
        "  # and stores the output in a N_width x N_samples_run matrix z\n",
        "  z_alpha = np.einsum(\"ijs,js->is\",W,phi_alpha)\n",
        "  z_beta = np.einsum(\"ijs,js->is\",W,phi_beta)"
      ]
    },
    {
      "cell_type": "markdown",
      "metadata": {
        "id": "cLWMdrrS8ejc"
      },
      "source": [
        "# Calculate Standard Deviation of Samples\n",
        "Here, we compute the mean and standard deviation of $\\ln(\\sin^2(\\theta^\\ell))$, using the network simulations ran earlier."
      ]
    },
    {
      "cell_type": "code",
      "execution_count": 5,
      "metadata": {
        "id": "CRjs80io8eUl"
      },
      "outputs": [],
      "source": [
        "ln_sinsq = np.log(sin_theta**2)\n",
        "\n",
        "ln_sinsq_mean = np.average(ln_sinsq, axis=1)\n",
        "ln_sinsq_sd = np.std(ln_sinsq, axis=1)"
      ]
    },
    {
      "cell_type": "markdown",
      "metadata": {
        "id": "8oxunWxTke13"
      },
      "source": [
        "# Define Necessary $J$ Functions\n",
        "We use the formulas $\\mu(\\theta,n)$ and $\\sigma^2(\\theta,n)$ from Theorem 1 of Jakub and Nica (2023) to predict the expected value and variance of the simulations. In particular,\n",
        "\n",
        "$$\\mathbf{E}[\\ln(\\sin^2(\\theta^{\\ell+1}))] = \\mu(\\theta^\\ell, n_\\ell) + \\mathcal{O}(n_\\ell^{-2}),$$\n",
        "\n",
        "$$\\mathbf{Var}[\\ln(\\sin^2(\\theta^{\\ell+1}))] = \\sigma^2(\\theta^\\ell, n_\\ell) + \\mathcal{O}(n_\\ell^{-2}).$$\n",
        "\n",
        "These formulas are defined in terms of an infinite family of $J$ functions, described in detail in Chapter 3 of our paper. We specifically need the functions $J_{1,1}(\\theta)$, $J_{3,1}(\\theta)$, and $J_{2,2}(\\theta)$, given below:\n",
        "\n",
        "$$J_{1,1}(\\theta) = \\frac{\\sin(\\theta) + (\\pi-\\theta)\\cos(\\theta)}{2\\pi}, $$\n",
        "\n",
        "$$J_{3,1}(\\theta) = \\frac{3(\\pi-\\theta)\\cos(\\theta) + \\sin(\\theta)\\cos^2(\\theta) + 2\\sin(\\theta)}{2\\pi}, $$\n",
        "\n",
        "$$J_{2,2}(\\theta) = \\frac{(\\pi-\\theta)(2\\cos^2(\\theta)+1) + 3\\sin(\\theta)\\cos(\\theta)}{2\\pi}.$$\n"
      ]
    },
    {
      "cell_type": "code",
      "source": [
        "J_11 = lambda th: (np.sin(th) + (np.pi-th)*np.cos(th)) / (2*np.pi)\n",
        "J_31 = lambda th: (3*(np.pi-th)*np.cos(th) + np.sin(th)*np.cos(th)**2 + 2*np.sin(th)) / (2*np.pi)\n",
        "J_22 = lambda th: ((np.pi-th)*(2*np.cos(th)**2+1) + 3*np.sin(th)*np.cos(th)) / (2*np.pi)"
      ],
      "metadata": {
        "id": "DOh_xkHy-rMi"
      },
      "execution_count": 6,
      "outputs": []
    },
    {
      "cell_type": "markdown",
      "source": [
        "Using the $J$ functions, we can define our big scary formulas for $\\mu(\\theta,n)$ and $\\sigma^2(\\theta,n)$:\n",
        "\n",
        "$$\\mu(\\theta,n) := \\ln \\left( \\frac{(n-1)(1-4J_{1,1}^2)}{4J_{2,2}-1+n}\\right)+ \\frac{ 4(J_{2,2}+1)}{n\\left(\\frac{4J_{2,2}-1}{n}+1\\right)^2}-  \\frac{4\\left(8J_{1,1}^2J_{2,2} - 8J_{1,1}^4 + 4J_{1,1}^2 - 8J_{1,1}J_{3,1} + J_{2,2} + 1 \\right) }{n\\left( 1-\\frac{1}{n} \\right)^2 \\left( 1 - 4 J_{1,1}^2 \\right)^2 }. $$\n",
        "\n",
        "$$\\sigma^2(\\theta,n) := \\frac{8n(J_{2,2}+1)}{(4J_{2,2}-1+n)^2} + \\frac{8n (8J_{1,1}^2J_{2,2} - 8J_{1,1}^4 + 4J_{1,1}^2 - 8J_{1,1}J_{3,1} + J_{2,2} +1}{(n-1)^2(1-4J_{1,1}^2)^2} - \\frac{16n(2J_{1,1}^2 - 4J_{1,1}J_{3,1} + J_{2,2} +1}{(4J_{2,2}-1+n)(n-1)(1-4J_{1,1}^2).} $$\n",
        "\n",
        "These formulas are what allow us to accurately predict the distribution of $\\ln(\\sin^2(\\theta^\\ell))$ over many layers. However, we see that they are pretty big, complicated functions. We will introduce convenient linear approximations of these functions, which are used in our prediction algorithms."
      ],
      "metadata": {
        "id": "c9H9Y5Ny8h3x"
      }
    },
    {
      "cell_type": "markdown",
      "metadata": {
        "id": "5y5BarSXEUA7"
      },
      "source": [
        "# Predicting the Distribution of $\\ln(\\sin^2(\\theta^\\ell))$\n",
        "## Infinite Width Prediction\n",
        "A simple way prediction rule for the angle evolution can be derived in the limit that the width of each layer goes to infinity. The infinite width prediction uses the law of large numbers and disregards any random fluctuations in $\\theta^{\\ell+1}$ given $\\theta^\\ell$. These small fluctuations can accumulate over many layers, leading to inaccurate predictions for finite width networks, as we will see in our plot. The infinite width prediction rule is given as follows:\n",
        "\n",
        "$$ \\cos(\\theta^{\\ell+1}) = 2J_{1,1}(\\theta^\\ell).$$\n",
        "\n",
        "Another important note is that the infinite width prediction assumes zero variance in each layer, so we only are predicting the mean of $\\theta^\\ell$. Below, we implement this prediction in code."
      ]
    },
    {
      "cell_type": "code",
      "execution_count": 7,
      "metadata": {
        "id": "WZEvKYI9EXgs"
      },
      "outputs": [],
      "source": [
        "# initialize vectors\n",
        "theta_inf = np.zeros((N_depth, 1))\n",
        "cos_theta_inf = np.zeros((N_depth, 1))\n",
        "\n",
        "theta = np.arccos(cos_theta)\n",
        "\n",
        "# Extract the initial theta value and cos(theta) value\n",
        "theta_inf[0] = theta[0,0]\n",
        "cos_theta_inf[0] = np.cos(theta[0,0])\n",
        "\n",
        "# calculate our first update of cos(theta)\n",
        "update = 2*J_11(theta_inf[0])\n",
        "\n",
        "# Loop through all the layers of the network to predict cos(theta)\n",
        "for i in range(1,N_depth):\n",
        "  # Calculate new predicted value of cos(theta)\n",
        "  cos_theta_inf[i] = update\n",
        "\n",
        "  # extract theta from cos(theta)\n",
        "  theta_inf[i] = np.arccos(cos_theta_inf[i])\n",
        "\n",
        "  # Calculate new value for update\n",
        "  update = 2*J_11(theta_inf[i])\n",
        "\n",
        "# We created a vector of cos(theta) values. We want to convert these to\n",
        "# ln(sin^2(theta)) so that we can compare to our prediction method\n",
        "ln_sinsq_inf = np.log(1-cos_theta_inf**2)"
      ]
    },
    {
      "cell_type": "markdown",
      "source": [
        "##Finite Width Prediction (Our Method)\n",
        "### Predict the Mean of Each Layer\n",
        "Instead of using the large complicated formulas for $\\mu(\\theta,n)$ and $\\sigma^2(\\theta,n)$, we take linear approximations about $\\theta=0$ to obtain simple formulas for the mean and variance, which work well for $\\theta << 1$. Doing so, we get a simple prediction rule for the mean of $\\ln(\\sin^2(\\theta))$:\n",
        "\n",
        "$$ \\ln(\\sin^2(\\theta^{\\ell+1})) \\approx \\ln(\\sin^2(\\theta^\\ell)) -  \\frac{2}{3\\pi}\\theta^\\ell - \\rho(n_\\ell),$$\n",
        "\n",
        "where\n",
        "\n",
        "$$ \\rho(n) = \\ln\\left( \\frac{5+n}{n-1}\\right) - \\frac{10}{n\\left(\\frac{5}{n} +1\\right)^2} + \\frac{6}{n\\left(1-\\frac{1}{n}\\right)^2}.$$\n",
        "\n",
        "This update rule is described in Approximation 1 of our paper. Below, we implement this update rule in code, to predict the mean of each layer."
      ],
      "metadata": {
        "id": "Eq2tvnkgZkhL"
      }
    },
    {
      "cell_type": "code",
      "execution_count": 8,
      "metadata": {
        "id": "FAGMkHNL7yhr"
      },
      "outputs": [],
      "source": [
        "# Initialize vectors\n",
        "ln_sinsq_pred = np.zeros((N_depth, 1))\n",
        "theta_pred = np.zeros((N_depth, 1))\n",
        "\n",
        "# Calculate slope and intercept of linear approximation\n",
        "slope = 2/(3*np.pi)\n",
        "intercept = np.log((5+N_width)/(N_width-1)) - 10/(N_width*(5/N_width + 1)**2) + 6/(N_width*(1-1/N_width)**2)\n",
        "\n",
        "# Extract the initial theta value and ln(sin^2(th)) value\n",
        "theta_pred[0] = theta[0,0]\n",
        "ln_sinsq_pred[0] = ln_sinsq[0,0]\n",
        "diff = slope*theta_pred[0] + intercept\n",
        "\n",
        "for i in range(1,N_depth):\n",
        "  # Calculate new predicted value\n",
        "  ln_sinsq_pred[i] = ln_sinsq_pred[i-1] - diff\n",
        "\n",
        "  # Calculate new value of theta\n",
        "  theta_pred[i] = np.arcsin(np.exp(ln_sinsq_pred[i]/2))\n",
        "\n",
        "  # Calculate new value for diff\n",
        "  diff = slope*theta_pred[i] + intercept\n",
        "\n",
        "ln_sinsq_pred = np.reshape(ln_sinsq_pred, (N_depth,))"
      ]
    },
    {
      "cell_type": "markdown",
      "metadata": {
        "id": "dirvvaZh22wd"
      },
      "source": [
        "### Predict Probability Density Function of Each Layer\n",
        "We have predicted the mean of each layer, but to fully understand the distribution of each layer, we must also understand its variance. To do this, we now include a variance term $G$ in our update rule:\n",
        "\n",
        "$$\\ln(\\sin^2(\\theta^{\\ell+1})) = \\ln(\\sin^2(\\theta^\\ell)) - \\frac{2}{3\\pi}\\theta^\\ell - \\rho(n_\\ell) + G, $$\n",
        "\n",
        "where $G \\sim \\mathcal{N}(0, \\textrm{Var}[\\ln(\\sin^2(\\theta^{\\ell+1})])$. The formula $\\sigma^2(\\theta,n)$ introduced earlier can be used to predict $\\textrm{Var}[\\ln(\\sin^2(\\theta^{\\ell+1})]$, but it is a long and complicated formula. To simplify things, we take a linear approximation of $\\sigma^2(\\theta,n)$ about 0, which reveals that for small $\\theta$ values, $\\textrm{Var}[\\ln(\\sin^2(\\theta^{\\ell+1})]$ is approximately constant!\n",
        "\n",
        "$$\\textrm{Var}[\\ln(\\sin^2(\\theta^{\\ell})] \\approx \\frac{8n_\\ell}{(n_\\ell+5)^2}\\; \\textrm{for } \\theta << 1.$$\n",
        "\n",
        "\n",
        "For convenience, let's let $X_\\ell = \\ln(\\sin^2(\\theta^\\ell))$. Treating layer width ($n_\\ell$) as a constant, we can equivalently write our prediction as follows:\n",
        "\n",
        "$$X_{\\ell+1} = \\alpha(X_\\ell) + \\beta \\epsilon, $$\n",
        "\n",
        "where:\n",
        "* $\\alpha(X_\\ell) = X_\\ell -\\frac{2}{3\\pi}\\arcsin(e^{\\frac{X_\\ell}{2}}) - \\rho(n_\\ell) = \\ln(\\sin^2(\\theta^\\ell)) - \\frac{2}{3\\pi}\\theta^\\ell - \\rho(n_\\ell),$\n",
        "* $\\beta = \\sqrt{\\frac{8n_\\ell}{(n_\\ell+5)^2}},$\n",
        "* $\\epsilon \\sim \\mathcal{N}(0,1).$\n",
        "\n",
        "Note that $\\alpha(\\theta^\\ell)$ approximates $\\mathbf{E}[\\ln(\\sin^2(\\theta^{\\ell+1}))]$ and $\\beta$ approximates the standard deviation of $\\ln(\\sin^2(\\theta^{\\ell+1})$. Now consider the initial angle between inputs, $\\theta^0$. This is nonrandom, because we chose the value of $\\theta^0$ in our simulations. Therefore, we have that $\\ln(\\sin^2(\\theta^1)) = \\alpha(\\theta^0, n_0) + \\beta(n_0)\\epsilon$ is Gaussian! This makes the prediction of the first hidden layer easy. However, $\\ln(\\sin^2(\\theta^\\ell))$ for $\\ell \\geq 2$ will not be Gaussian. How do we predict the distribution for these layers?\n",
        "\n",
        "We want to calculate the probability density function $P(x) = P(X_\\ell = x)$ for each layer in the network. As we found previously, the probaility density function for layer 1 is simply a Gaussian. We can calculate the probability density function for layer 2 as follows:\n",
        "\n",
        "$$P(X_2=x) = \\int_{-\\infty}^{\\infty} P(X_2=x | X_1 =y) P(X_1=y) dy .$$\n",
        "\n",
        "This looks confusing, but let's break it down into something we can integrate. First of all, we know what $P(x_1=y)$ is $-$ this is simply the Gaussian curve of layer 1! However, we don't know what $P(X_2=x|X_1= y)$ is, so we need to do some manipulation. First, we apply our prediction formula on $X_2$:\n",
        "\n",
        "$$P(X_2=x) = \\int_{-\\infty}^{\\infty} P(\\alpha(X_1) + \\beta \\epsilon=x | X_1 =y) P(X_1=y) dy .$$\n",
        "\n",
        "Since the conditional probability $P(\\alpha(X_1) + \\beta \\epsilon=x | X_1 =y)$ is calculated under the assumption that $X_1=y$, we can replace $X_1$ with $y$ and get rid of the condition. The integral becomes\n",
        "\n",
        "$$P(X_2=x) = \\int_{-\\infty}^{\\infty} P(\\alpha(y) + \\beta \\epsilon=x) P(X_1=y) dy, \\\\\n",
        "P(X_2=x) = \\int_{-\\infty}^{\\infty} P(\\beta \\epsilon = x - \\alpha(y)) P(X_1=y) dy.$$\n",
        "\n",
        "Using the property that $P(cX=x) = \\frac{1}{c}P(X=\\frac{x}{c})$ for $c \\in \\mathbb{R}$, we can pull out the coefficient of $\\beta$ on the Gaussian term $\\epsilon$,\n",
        "\n",
        "$$P(X_2=x) = \\frac{1}{\\beta}\\int_{-\\infty}^{\\infty} P\\left(\\epsilon = \\frac{x - \\alpha(y)}{\\beta}\\right) P(X_1=y) dy.$$\n",
        "\n",
        "Now, $P\\left(\\epsilon = \\frac{x - \\alpha(y)}{\\beta}\\right)$ is simply the probability density function of a Gaussian, which we can easily calculate! We now can calculate this integral numerically to obtain $P(X_2=x)$, and then repeat the process layer by layer as follows:\n",
        "\n",
        "$$P(X_{\\ell+1}=x) = \\frac{1}{\\beta}\\int_{-\\infty}^{\\infty} P\\left(\\epsilon = \\frac{x - \\alpha(y)}{\\beta}\\right) P(X_\\ell=y) dy.$$\n",
        "\n",
        "Below, we define the necessary functions and constants needed for the integral calculation."
      ]
    },
    {
      "cell_type": "code",
      "execution_count": 9,
      "metadata": {
        "id": "vt3TZxuh27QG"
      },
      "outputs": [],
      "source": [
        "def rho(N_width):\n",
        "  return np.log((5+N_width)/(N_width-1)) - 10/(N_width*(5/N_width + 1)**2) + 6/(N_width*(1-1/N_width)**2)\n",
        "\n",
        "def alpha(x):\n",
        "  return x - 2/(3*np.pi)*np.arcsin(np.exp(x/2)) - rho(N_width)\n",
        "\n",
        "beta = np.sqrt(8*N_width/(N_width+5)**2)\n",
        "\n",
        "def P(x):\n",
        "  return scipy.stats.norm(0, 1).pdf(x)\n",
        "\n",
        "def integral_calc(half_integrand, pdf):\n",
        "  return (half_integrand@pdf)*((x_end-x_start)/N_points)"
      ]
    },
    {
      "cell_type": "markdown",
      "source": [
        "Recall that layer 1 will be Gaussian. To predict the probability density function of layer 1, we need to predict what the mean and variance of this layer will be. We can do this using our formulas for $\\mu(\\theta, n)$ and $\\sigma^2(\\theta,n)$ introduced earlier."
      ],
      "metadata": {
        "id": "M3qxeYviE4ny"
      }
    },
    {
      "cell_type": "code",
      "execution_count": 10,
      "metadata": {
        "id": "C593o0vc4TEG"
      },
      "outputs": [],
      "source": [
        "J11 = J_11(theta_init)\n",
        "J31 = J_31(theta_init)\n",
        "J22 = J_22(theta_init)\n",
        "\n",
        "mean = np.log((N_width-1)*(1-4*J11**2)/(4*J22-1+N_width)) \\\n",
        "      + 4*(J22+1)/ (N_width*((4*J22-1)/N_width+1)**2) \\\n",
        "      - (4*(8*J11**2*J22 - 8*J11**4 + 4*J11**2 - 8*J11*J31 + J22 + 1))/(N_width*(1-1/N_width)**2*(1-4*J11**2)**2)\n",
        "\n",
        "\n",
        "var = (8/N_width)*(8*J11**2*J22 - 8*J11**4 + 4*J11**2 - 8*J11*J31 + J22 + 1)/((1-1/N_width)*(1 - 4*J11*J11))**2 \\\n",
        "      + (8*(J22 + 1)/N_width)/((4*J22 - 1)/N_width + 1)**2 \\\n",
        "      - 16*(2*J11**2 - 4*J11*J31 + J22 + 1)/(N_width*(1-1/N_width)*(1 - 4*J11*J11)*((4*J22 - 1)/N_width + 1))\n",
        "\n",
        "sd = np.sqrt(var)"
      ]
    },
    {
      "cell_type": "markdown",
      "metadata": {
        "id": "jtVn39-L4WeI"
      },
      "source": [
        "We now have everything we need to predict the probability density function at each layer."
      ]
    },
    {
      "cell_type": "code",
      "execution_count": 11,
      "metadata": {
        "colab": {
          "base_uri": "https://localhost:8080/",
          "height": 49,
          "referenced_widgets": [
            "b3bc9d7d0092495787e8c93f47f3bf1b",
            "be76539c3ee443b8bee4cd093dd8dcea",
            "2b5decc030bc41af868662bec5b91afb",
            "696368d99b5a43bfae8fc247306458c7",
            "dfb4f6be5b5e4e3da094131c8f94b62c",
            "1917a39d32814ed38539a9ba19ee580f",
            "635686ab4aaf483891415a085d6e9c23",
            "41375ffb5b024b79b469dd8f86ab2e5d",
            "cd84df5799a645d99d8e9e53f145a535",
            "a3a1891fbeb041a19c75a68e3ac7e1ec",
            "96ea9827ffeb47c59fd46b67f9e07677"
          ]
        },
        "id": "MZRkcYlP4ahD",
        "outputId": "36922ebf-6498-4282-9090-ec5da7a05310"
      },
      "outputs": [
        {
          "output_type": "display_data",
          "data": {
            "text/plain": [
              "  0%|          | 0/30 [00:00<?, ?it/s]"
            ],
            "application/vnd.jupyter.widget-view+json": {
              "version_major": 2,
              "version_minor": 0,
              "model_id": "b3bc9d7d0092495787e8c93f47f3bf1b"
            }
          },
          "metadata": {}
        }
      ],
      "source": [
        "# Initialize variables\n",
        "N_points = 10000\n",
        "pdf_x = np.zeros((N_depth, N_points))\n",
        "\n",
        "# Define the interval which our integral calculation will span\n",
        "x_start = -15\n",
        "x_end = 0\n",
        "x_range = np.linspace(x_start, x_end, N_points)\n",
        "\n",
        "# Define the probability density function at layer 1 (X_1)\n",
        "pdf_x[1] = stats.norm.pdf(x_range, mean, sd)\n",
        "\n",
        "# Call a function to calculate the pdf at each layer\n",
        "for i in tqdm_notebook(range(2,N_depth)):\n",
        "  half_integrand = P((x_range[:,np.newaxis] - alpha(x_range[np.newaxis,:]))/beta)/beta\n",
        "  pdf_x[i] = integral_calc(half_integrand, pdf_x[i-1])"
      ]
    },
    {
      "cell_type": "markdown",
      "metadata": {
        "id": "yklKQurv4wr2"
      },
      "source": [
        "### Predict the Standard Deviation of Each Layer\n",
        "It will be useful to compare the standard deviation of our predictions to the empirical simulations. We can predict the variance of each layer using $\\mathbf{Var}[X] =\\mathbf{E}[X^2] - \\mathbf{E}[X]^2$. We have already calculated $\\mathbf{E}[X_\\ell]$ (the mean of each layer), but we have not yet calculated $\\mathbf{E}[X_\\ell^2]$. This can be done as follows:\n",
        "\n",
        "$$\\mathbf{E}[X_\\ell^2] = \\int_{-\\infty}^{\\infty} x^2 P(X_\\ell=x)dx.$$"
      ]
    },
    {
      "cell_type": "code",
      "execution_count": 12,
      "metadata": {
        "colab": {
          "base_uri": "https://localhost:8080/",
          "height": 49,
          "referenced_widgets": [
            "3ee2c64ad644426d806b8b3fe1644a09",
            "30f162c4034a424cb290efac53c99262",
            "562f8b9e81f34c68b71f93e6054f2e94",
            "1db86d90611744e3a1026a2314c284da",
            "6b9d391adb774bb5a528eeaffd9586df",
            "ddbadb5763d44bcea71089522e751035",
            "dd24006b864d4f18bacc9dc7cbb17c70",
            "5a0a59eb77e142cfbcfd6d3781d5bb18",
            "bddc4af5ee4b452792e15a777fba39d6",
            "7e5674ae9e0a4ed78f80d42dc2f7f7cb",
            "e1634e140608488ba226944c1054f5e6"
          ]
        },
        "id": "sMhKC6FO4zgi",
        "outputId": "8ea7cd18-dcd0-4848-a9e5-584dc2ea6908"
      },
      "outputs": [
        {
          "output_type": "display_data",
          "data": {
            "text/plain": [
              "  0%|          | 0/31 [00:00<?, ?it/s]"
            ],
            "application/vnd.jupyter.widget-view+json": {
              "version_major": 2,
              "version_minor": 0,
              "model_id": "3ee2c64ad644426d806b8b3fe1644a09"
            }
          },
          "metadata": {}
        }
      ],
      "source": [
        "E_X2=np.zeros((N_depth,))\n",
        "E_X=np.zeros((N_depth,))\n",
        "\n",
        "for i in tqdm_notebook(range(1,N_depth)):\n",
        "  half_integrand_sd = x_range*x_range\n",
        "  E_X2[i] = integral_calc(half_integrand_sd, pdf_x[i])\n",
        "\n",
        "E_X = np.reshape(ln_sinsq_pred, (N_depth,))\n",
        "\n",
        "# calculate the predicted standard deviation of each layer\n",
        "var_pred = E_X2 - E_X*E_X\n",
        "var_pred[0]=0.0\n",
        "sd_pred = np.sqrt(var_pred)"
      ]
    },
    {
      "cell_type": "markdown",
      "metadata": {
        "id": "kkbBDqYa6bed"
      },
      "source": [
        "# Plots\n",
        "Now, we plot our predictions compared to our simulations. In this first plot, we compare our predictions for the mean and standard deviation of each layer to the simulations we ran. On top of this, we also plot the infinite width prediction, to see how it compares to finite width networks."
      ]
    },
    {
      "cell_type": "code",
      "execution_count": 13,
      "metadata": {
        "colab": {
          "base_uri": "https://localhost:8080/",
          "height": 596
        },
        "id": "sxTbKh3K6ap5",
        "outputId": "ccbf1e91-1cf2-408e-ac4c-7c28b48d15bd"
      },
      "outputs": [
        {
          "output_type": "execute_result",
          "data": {
            "text/plain": [
              "<matplotlib.legend.Legend at 0x7fa85c0f7d00>"
            ]
          },
          "metadata": {},
          "execution_count": 13
        },
        {
          "output_type": "display_data",
          "data": {
            "text/plain": [
              "<Figure size 900x600 with 1 Axes>"
            ],
            "image/png": "[encoded data removed]"
          },
          "metadata": {}
        }
      ],
      "source": [
        "plt.figure(figsize= (9,6), dpi=100)\n",
        "\n",
        "# Plot our predicted mean and sd\n",
        "plt.errorbar(np.arange(0,N_depth), ln_sinsq_pred, yerr=sd_pred, markersize=4, fmt='s', color='royalblue', ecolor='lightsteelblue', elinewidth=6, capsize=0, zorder=0, label = \"Our Approximation\")\n",
        "\n",
        "# Plot empirical mean and sd from simulations\n",
        "plt.errorbar(np.arange(0,N_depth), ln_sinsq_mean, yerr=ln_sinsq_sd, fmt='x', color='black', ecolor='black', elinewidth=1, capsize=2, markersize=7, zorder=0, label = \"Monte Carlo Simulations\")\n",
        "\n",
        "# Plot infinite width prediction\n",
        "plt.scatter(np.arange(0,N_depth), ln_sinsq_inf, s=25, marker = \"^\", color = \"green\", label = \"Infinite Width Prediction\")\n",
        "\n",
        "# Labels\n",
        "plt.xlabel(\"Layer Number\", fontsize=14)\n",
        "plt.title(\"Simulation of $\\\\ln(\\\\sin^2(\\\\theta^\\ell))$\", fontsize=16)\n",
        "plt.legend(fontsize = 14)"
      ]
    },
    {
      "cell_type": "markdown",
      "metadata": {
        "id": "rZQQerTPARw8"
      },
      "source": [
        "Here, we plot histograms of the empirical distribution obtained through simulations, and compare that to the predicted probability density functions we calculated earlier."
      ]
    },
    {
      "cell_type": "code",
      "source": [
        "# Specify number of bins in the histogram, and which 2 layers of the network\n",
        "# we want to look at\n",
        "N_bins = 50\n",
        "layer_init = 1\n",
        "layer_final = 30\n",
        "\n",
        "# Plot the our predicted probability density function\n",
        "fig=plt.figure(figsize=(5, 6), dpi=100)\n",
        "fig.suptitle(\"Probability Density Function\", fontsize=16)\n",
        "plt.subplots_adjust(hspace=0.3)\n",
        "plt1 = plt.subplot(2, 1, 1)\n",
        "plt.plot(x_range, pdf_x[layer_init], label = \"_Predicted PDF\")\n",
        "plt.hist(ln_sinsq[layer_init], bins = N_bins, density=True, label = \"_Empirical Histogram\")\n",
        "plt.title('Layer {}'.format(layer_init), fontsize=12)\n",
        "plt.ylabel(\"Frequency\", fontsize=14)\n",
        "plt.xlim([min(ln_sinsq[layer_init]), max(ln_sinsq[layer_init])])\n",
        "\n",
        "# Plot the empirical distribution\n",
        "plt2=plt.subplot(2, 1, 2)\n",
        "plt.plot(x_range, pdf_x[layer_final], label = \"Predicted PDF\")\n",
        "plt.hist(ln_sinsq[layer_final], bins = N_bins, density=True, label = \"Empirical Histogram\")\n",
        "plt.title('Layer {}'.format(layer_final), fontsize=12)\n",
        "plt.xlabel(\"$\\\\ln(\\\\sin^2(\\\\theta^{\\ell}))$\", fontsize = 14)\n",
        "plt.ylabel(\"Frequency\", fontsize=14)\n",
        "plt.xlim([min(ln_sinsq[layer_final]), max(ln_sinsq[layer_final])])\n",
        "\n",
        "fig.legend( bbox_to_anchor=(0.5, -0.025),loc = 'center', ncol=2, fontsize=14)"
      ],
      "metadata": {
        "colab": {
          "base_uri": "https://localhost:8080/",
          "height": 675
        },
        "id": "zo9xFZpTIvdL",
        "outputId": "9b729d09-a5a5-48d5-a0f7-e6af3b5fd8e1"
      },
      "execution_count": 23,
      "outputs": [
        {
          "output_type": "execute_result",
          "data": {
            "text/plain": [
              "<matplotlib.legend.Legend at 0x7fa4f2c30c10>"
            ]
          },
          "metadata": {},
          "execution_count": 23
        },
        {
          "output_type": "display_data",
          "data": {
            "text/plain": [
              "<Figure size 500x600 with 2 Axes>"
            ],
            "image/png": "[encoded data removed]"
          },
          "metadata": {}
        }
      ]
    },
    {
      "cell_type": "markdown",
      "source": [
        "#Perform a Kolmogorov-Smirnov Test\n",
        "As a last step, we can perform a Kolmogorov-Smirnov test to see if our predicted distribtion is statistically indistinguishable from the simulations. Let $F_n(x)$ be the empirical cumulative distribution function for $n$ iid ordered observations $X_i$. The Kolmogorov-Smirnov statistic for a given cdf $F(x)$ is\n",
        "\n",
        "$$D_n = \\sup_x | F_n(x)- F(x)|$$\n",
        "\n",
        "ie. it is the greatest distance between the empirical distribution and the cdf.\n",
        "\n",
        "$H_0$: the empirical data comes from the specified distribution\n",
        "\n",
        "$H_1$: at least one value does not match the specified distribution\n",
        "\n",
        "If $D_n$ is greater than the critical value, we reject the null hypothesis."
      ],
      "metadata": {
        "id": "ILYYZ1nGXTnM"
      }
    },
    {
      "cell_type": "code",
      "execution_count": 15,
      "metadata": {
        "colab": {
          "base_uri": "https://localhost:8080/",
          "height": 88
        },
        "id": "XWn7yxHQBuNF",
        "outputId": "efc5e40f-92de-4c5e-a47c-58ed48343821"
      },
      "outputs": [
        {
          "output_type": "stream",
          "name": "stdout",
          "text": [
            "Layer number: 30\n",
            "Reject null hypothesis.\n",
            "P value =  0.020934032360397644 < 0.05\n"
          ]
        },
        {
          "output_type": "display_data",
          "data": {
            "text/plain": [
              "<Figure size 900x600 with 0 Axes>"
            ]
          },
          "metadata": {}
        }
      ],
      "source": [
        "from statsmodels.distributions.empirical_distribution import ECDF\n",
        "\n",
        "# specify layer for which you want to perform the K-S test\n",
        "layer_num = 30\n",
        "\n",
        "# Calculate predicted cumulative distribution\n",
        "cdf_x = np.zeros((N_depth, N_points))\n",
        "cdf_x = np.cumsum(pdf_x, axis = 1)*((x_end-x_start)/N_points)\n",
        "\n",
        "# Compute the empirical cdf\n",
        "plt.figure(figsize=(9, 6))\n",
        "empirical_cdf = ECDF(ln_sinsq[layer_num])\n",
        "\n",
        "# Now, we will interpolate points on the predicted plot to match those on the\n",
        "# empirical cdf plot. This way, we can compare the heights of the plots at each\n",
        "# point\n",
        "cdf_x_interp = np.interp(empirical_cdf.x, x_range, cdf_x[layer_num])\n",
        "\n",
        "# Perform K-S test\n",
        "alpha = 0.05\n",
        "Dn, pval = stats.kstest(empirical_cdf.y, cdf_x_interp)\n",
        "\n",
        "print(\"Layer number:\", layer_num)\n",
        "if pval < alpha:\n",
        "  print(\"Reject null hypothesis.\\nP value = \", pval, \"<\", alpha)\n",
        "else:\n",
        "  print(\"Fail to reject null hypothesis - distributions are statistically indistinguishable.\\nP value = \", pval, \">\", alpha, \"\\n\")"
      ]
    },
    {
      "cell_type": "markdown",
      "source": [
        "# References\n",
        "Kaiming He, Xiangyu Zhang, Shaoqing Ren, and Jian Sun. Delving deep into recti-\n",
        "fiers: Surpassing human-level performance on imagenet classification. In 2015 IEEE\n",
        "International Conference on Computer Vision (ICCV), pages 1026–1034, 2015. doi:\n",
        "10.1109/ICCV.2015.123\n",
        "\n",
        "Cameron Jakub and Mihai Nica. Depth degeneracy in neural networks: Vanishing angles in\n",
        "fully connected ReLU networks on initialization, 2023. URL https://arxiv.org/abs/2302.09712"
      ],
      "metadata": {
        "id": "hcb0SAelZ5FX"
      }
    }
  ],
  "metadata": {
    "accelerator": "GPU",
    "colab": {
      "provenance": []
    },
    "kernelspec": {
      "display_name": "Python 3",
      "name": "python3"
    },
    "language_info": {
      "name": "python"
    },
    "widgets": {
      "application/vnd.jupyter.widget-state+json": {
        "98ff4cea89ef4169a46379d61036548f": {
          "model_module": "@jupyter-widgets/controls",
          "model_name": "HBoxModel",
          "model_module_version": "1.5.0",
          "state": {
            "_dom_classes": [],
            "_model_module": "@jupyter-widgets/controls",
            "_model_module_version": "1.5.0",
            "_model_name": "HBoxModel",
            "_view_count": null,
            "_view_module": "@jupyter-widgets/controls",
            "_view_module_version": "1.5.0",
            "_view_name": "HBoxView",
            "box_style": "",
            "children": [
              "IPY_MODEL_b46a39ac829a4634ab4735fc0b254beb",
              "IPY_MODEL_dbbc5f171cac4f9d8f995e9da9fef9f6",
              "IPY_MODEL_0def53f3313848bd9dff08c36c84abc0"
            ],
            "layout": "IPY_MODEL_8c723e78e1a54e33bcdc398eb82440f1"
          }
        },
        "b46a39ac829a4634ab4735fc0b254beb": {
          "model_module": "@jupyter-widgets/controls",
          "model_name": "HTMLModel",
          "model_module_version": "1.5.0",
          "state": {
            "_dom_classes": [],
            "_model_module": "@jupyter-widgets/controls",
            "_model_module_version": "1.5.0",
            "_model_name": "HTMLModel",
            "_view_count": null,
            "_view_module": "@jupyter-widgets/controls",
            "_view_module_version": "1.5.0",
            "_view_name": "HTMLView",
            "description": "",
            "description_tooltip": null,
            "layout": "IPY_MODEL_2c6fcf5941c04c73a4e28333fdb77db5",
            "placeholder": "​",
            "style": "IPY_MODEL_5d6214179a6645a3beb0f4c90dc6bebd",
            "value": "100%"
          }
        },
        "dbbc5f171cac4f9d8f995e9da9fef9f6": {
          "model_module": "@jupyter-widgets/controls",
          "model_name": "FloatProgressModel",
          "model_module_version": "1.5.0",
          "state": {
            "_dom_classes": [],
            "_model_module": "@jupyter-widgets/controls",
            "_model_module_version": "1.5.0",
            "_model_name": "FloatProgressModel",
            "_view_count": null,
            "_view_module": "@jupyter-widgets/controls",
            "_view_module_version": "1.5.0",
            "_view_name": "ProgressView",
            "bar_style": "success",
            "description": "",
            "description_tooltip": null,
            "layout": "IPY_MODEL_e401e161ca154b01b9115377dd790968",
            "max": 32,
            "min": 0,
            "orientation": "horizontal",
            "style": "IPY_MODEL_ef99d8ad67194d71b8bff09f516845bf",
            "value": 32
          }
        },
        "0def53f3313848bd9dff08c36c84abc0": {
          "model_module": "@jupyter-widgets/controls",
          "model_name": "HTMLModel",
          "model_module_version": "1.5.0",
          "state": {
            "_dom_classes": [],
            "_model_module": "@jupyter-widgets/controls",
            "_model_module_version": "1.5.0",
            "_model_name": "HTMLModel",
            "_view_count": null,
            "_view_module": "@jupyter-widgets/controls",
            "_view_module_version": "1.5.0",
            "_view_name": "HTMLView",
            "description": "",
            "description_tooltip": null,
            "layout": "IPY_MODEL_4cdea1688d004cb0b0e571bc9cc5a2c8",
            "placeholder": "​",
            "style": "IPY_MODEL_3c95ac31d8b94adbafbd07a7daaa8063",
            "value": " 32/32 [00:47&lt;00:00,  1.26s/it]"
          }
        },
        "8c723e78e1a54e33bcdc398eb82440f1": {
          "model_module": "@jupyter-widgets/base",
          "model_name": "LayoutModel",
          "model_module_version": "1.2.0",
          "state": {
            "_model_module": "@jupyter-widgets/base",
            "_model_module_version": "1.2.0",
            "_model_name": "LayoutModel",
            "_view_count": null,
            "_view_module": "@jupyter-widgets/base",
            "_view_module_version": "1.2.0",
            "_view_name": "LayoutView",
            "align_content": null,
            "align_items": null,
            "align_self": null,
            "border": null,
            "bottom": null,
            "display": null,
            "flex": null,
            "flex_flow": null,
            "grid_area": null,
            "grid_auto_columns": null,
            "grid_auto_flow": null,
            "grid_auto_rows": null,
            "grid_column": null,
            "grid_gap": null,
            "grid_row": null,
            "grid_template_areas": null,
            "grid_template_columns": null,
            "grid_template_rows": null,
            "height": null,
            "justify_content": null,
            "justify_items": null,
            "left": null,
            "margin": null,
            "max_height": null,
            "max_width": null,
            "min_height": null,
            "min_width": null,
            "object_fit": null,
            "object_position": null,
            "order": null,
            "overflow": null,
            "overflow_x": null,
            "overflow_y": null,
            "padding": null,
            "right": null,
            "top": null,
            "visibility": null,
            "width": null
          }
        },
        "2c6fcf5941c04c73a4e28333fdb77db5": {
          "model_module": "@jupyter-widgets/base",
          "model_name": "LayoutModel",
          "model_module_version": "1.2.0",
          "state": {
            "_model_module": "@jupyter-widgets/base",
            "_model_module_version": "1.2.0",
            "_model_name": "LayoutModel",
            "_view_count": null,
            "_view_module": "@jupyter-widgets/base",
            "_view_module_version": "1.2.0",
            "_view_name": "LayoutView",
            "align_content": null,
            "align_items": null,
            "align_self": null,
            "border": null,
            "bottom": null,
            "display": null,
            "flex": null,
            "flex_flow": null,
            "grid_area": null,
            "grid_auto_columns": null,
            "grid_auto_flow": null,
            "grid_auto_rows": null,
            "grid_column": null,
            "grid_gap": null,
            "grid_row": null,
            "grid_template_areas": null,
            "grid_template_columns": null,
            "grid_template_rows": null,
            "height": null,
            "justify_content": null,
            "justify_items": null,
            "left": null,
            "margin": null,
            "max_height": null,
            "max_width": null,
            "min_height": null,
            "min_width": null,
            "object_fit": null,
            "object_position": null,
            "order": null,
            "overflow": null,
            "overflow_x": null,
            "overflow_y": null,
            "padding": null,
            "right": null,
            "top": null,
            "visibility": null,
            "width": null
          }
        },
        "5d6214179a6645a3beb0f4c90dc6bebd": {
          "model_module": "@jupyter-widgets/controls",
          "model_name": "DescriptionStyleModel",
          "model_module_version": "1.5.0",
          "state": {
            "_model_module": "@jupyter-widgets/controls",
            "_model_module_version": "1.5.0",
            "_model_name": "DescriptionStyleModel",
            "_view_count": null,
            "_view_module": "@jupyter-widgets/base",
            "_view_module_version": "1.2.0",
            "_view_name": "StyleView",
            "description_width": ""
          }
        },
        "e401e161ca154b01b9115377dd790968": {
          "model_module": "@jupyter-widgets/base",
          "model_name": "LayoutModel",
          "model_module_version": "1.2.0",
          "state": {
            "_model_module": "@jupyter-widgets/base",
            "_model_module_version": "1.2.0",
            "_model_name": "LayoutModel",
            "_view_count": null,
            "_view_module": "@jupyter-widgets/base",
            "_view_module_version": "1.2.0",
            "_view_name": "LayoutView",
            "align_content": null,
            "align_items": null,
            "align_self": null,
            "border": null,
            "bottom": null,
            "display": null,
            "flex": null,
            "flex_flow": null,
            "grid_area": null,
            "grid_auto_columns": null,
            "grid_auto_flow": null,
            "grid_auto_rows": null,
            "grid_column": null,
            "grid_gap": null,
            "grid_row": null,
            "grid_template_areas": null,
            "grid_template_columns": null,
            "grid_template_rows": null,
            "height": null,
            "justify_content": null,
            "justify_items": null,
            "left": null,
            "margin": null,
            "max_height": null,
            "max_width": null,
            "min_height": null,
            "min_width": null,
            "object_fit": null,
            "object_position": null,
            "order": null,
            "overflow": null,
            "overflow_x": null,
            "overflow_y": null,
            "padding": null,
            "right": null,
            "top": null,
            "visibility": null,
            "width": null
          }
        },
        "ef99d8ad67194d71b8bff09f516845bf": {
          "model_module": "@jupyter-widgets/controls",
          "model_name": "ProgressStyleModel",
          "model_module_version": "1.5.0",
          "state": {
            "_model_module": "@jupyter-widgets/controls",
            "_model_module_version": "1.5.0",
            "_model_name": "ProgressStyleModel",
            "_view_count": null,
            "_view_module": "@jupyter-widgets/base",
            "_view_module_version": "1.2.0",
            "_view_name": "StyleView",
            "bar_color": null,
            "description_width": ""
          }
        },
        "4cdea1688d004cb0b0e571bc9cc5a2c8": {
          "model_module": "@jupyter-widgets/base",
          "model_name": "LayoutModel",
          "model_module_version": "1.2.0",
          "state": {
            "_model_module": "@jupyter-widgets/base",
            "_model_module_version": "1.2.0",
            "_model_name": "LayoutModel",
            "_view_count": null,
            "_view_module": "@jupyter-widgets/base",
            "_view_module_version": "1.2.0",
            "_view_name": "LayoutView",
            "align_content": null,
            "align_items": null,
            "align_self": null,
            "border": null,
            "bottom": null,
            "display": null,
            "flex": null,
            "flex_flow": null,
            "grid_area": null,
            "grid_auto_columns": null,
            "grid_auto_flow": null,
            "grid_auto_rows": null,
            "grid_column": null,
            "grid_gap": null,
            "grid_row": null,
            "grid_template_areas": null,
            "grid_template_columns": null,
            "grid_template_rows": null,
            "height": null,
            "justify_content": null,
            "justify_items": null,
            "left": null,
            "margin": null,
            "max_height": null,
            "max_width": null,
            "min_height": null,
            "min_width": null,
            "object_fit": null,
            "object_position": null,
            "order": null,
            "overflow": null,
            "overflow_x": null,
            "overflow_y": null,
            "padding": null,
            "right": null,
            "top": null,
            "visibility": null,
            "width": null
          }
        },
        "3c95ac31d8b94adbafbd07a7daaa8063": {
          "model_module": "@jupyter-widgets/controls",
          "model_name": "DescriptionStyleModel",
          "model_module_version": "1.5.0",
          "state": {
            "_model_module": "@jupyter-widgets/controls",
            "_model_module_version": "1.5.0",
            "_model_name": "DescriptionStyleModel",
            "_view_count": null,
            "_view_module": "@jupyter-widgets/base",
            "_view_module_version": "1.2.0",
            "_view_name": "StyleView",
            "description_width": ""
          }
        },
        "b3bc9d7d0092495787e8c93f47f3bf1b": {
          "model_module": "@jupyter-widgets/controls",
          "model_name": "HBoxModel",
          "model_module_version": "1.5.0",
          "state": {
            "_dom_classes": [],
            "_model_module": "@jupyter-widgets/controls",
            "_model_module_version": "1.5.0",
            "_model_name": "HBoxModel",
            "_view_count": null,
            "_view_module": "@jupyter-widgets/controls",
            "_view_module_version": "1.5.0",
            "_view_name": "HBoxView",
            "box_style": "",
            "children": [
              "IPY_MODEL_be76539c3ee443b8bee4cd093dd8dcea",
              "IPY_MODEL_2b5decc030bc41af868662bec5b91afb",
              "IPY_MODEL_696368d99b5a43bfae8fc247306458c7"
            ],
            "layout": "IPY_MODEL_dfb4f6be5b5e4e3da094131c8f94b62c"
          }
        },
        "be76539c3ee443b8bee4cd093dd8dcea": {
          "model_module": "@jupyter-widgets/controls",
          "model_name": "HTMLModel",
          "model_module_version": "1.5.0",
          "state": {
            "_dom_classes": [],
            "_model_module": "@jupyter-widgets/controls",
            "_model_module_version": "1.5.0",
            "_model_name": "HTMLModel",
            "_view_count": null,
            "_view_module": "@jupyter-widgets/controls",
            "_view_module_version": "1.5.0",
            "_view_name": "HTMLView",
            "description": "",
            "description_tooltip": null,
            "layout": "IPY_MODEL_1917a39d32814ed38539a9ba19ee580f",
            "placeholder": "​",
            "style": "IPY_MODEL_635686ab4aaf483891415a085d6e9c23",
            "value": "100%"
          }
        },
        "2b5decc030bc41af868662bec5b91afb": {
          "model_module": "@jupyter-widgets/controls",
          "model_name": "FloatProgressModel",
          "model_module_version": "1.5.0",
          "state": {
            "_dom_classes": [],
            "_model_module": "@jupyter-widgets/controls",
            "_model_module_version": "1.5.0",
            "_model_name": "FloatProgressModel",
            "_view_count": null,
            "_view_module": "@jupyter-widgets/controls",
            "_view_module_version": "1.5.0",
            "_view_name": "ProgressView",
            "bar_style": "success",
            "description": "",
            "description_tooltip": null,
            "layout": "IPY_MODEL_41375ffb5b024b79b469dd8f86ab2e5d",
            "max": 30,
            "min": 0,
            "orientation": "horizontal",
            "style": "IPY_MODEL_cd84df5799a645d99d8e9e53f145a535",
            "value": 30
          }
        },
        "696368d99b5a43bfae8fc247306458c7": {
          "model_module": "@jupyter-widgets/controls",
          "model_name": "HTMLModel",
          "model_module_version": "1.5.0",
          "state": {
            "_dom_classes": [],
            "_model_module": "@jupyter-widgets/controls",
            "_model_module_version": "1.5.0",
            "_model_name": "HTMLModel",
            "_view_count": null,
            "_view_module": "@jupyter-widgets/controls",
            "_view_module_version": "1.5.0",
            "_view_name": "HTMLView",
            "description": "",
            "description_tooltip": null,
            "layout": "IPY_MODEL_a3a1891fbeb041a19c75a68e3ac7e1ec",
            "placeholder": "​",
            "style": "IPY_MODEL_96ea9827ffeb47c59fd46b67f9e07677",
            "value": " 30/30 [02:25&lt;00:00,  4.76s/it]"
          }
        },
        "dfb4f6be5b5e4e3da094131c8f94b62c": {
          "model_module": "@jupyter-widgets/base",
          "model_name": "LayoutModel",
          "model_module_version": "1.2.0",
          "state": {
            "_model_module": "@jupyter-widgets/base",
            "_model_module_version": "1.2.0",
            "_model_name": "LayoutModel",
            "_view_count": null,
            "_view_module": "@jupyter-widgets/base",
            "_view_module_version": "1.2.0",
            "_view_name": "LayoutView",
            "align_content": null,
            "align_items": null,
            "align_self": null,
            "border": null,
            "bottom": null,
            "display": null,
            "flex": null,
            "flex_flow": null,
            "grid_area": null,
            "grid_auto_columns": null,
            "grid_auto_flow": null,
            "grid_auto_rows": null,
            "grid_column": null,
            "grid_gap": null,
            "grid_row": null,
            "grid_template_areas": null,
            "grid_template_columns": null,
            "grid_template_rows": null,
            "height": null,
            "justify_content": null,
            "justify_items": null,
            "left": null,
            "margin": null,
            "max_height": null,
            "max_width": null,
            "min_height": null,
            "min_width": null,
            "object_fit": null,
            "object_position": null,
            "order": null,
            "overflow": null,
            "overflow_x": null,
            "overflow_y": null,
            "padding": null,
            "right": null,
            "top": null,
            "visibility": null,
            "width": null
          }
        },
        "1917a39d32814ed38539a9ba19ee580f": {
          "model_module": "@jupyter-widgets/base",
          "model_name": "LayoutModel",
          "model_module_version": "1.2.0",
          "state": {
            "_model_module": "@jupyter-widgets/base",
            "_model_module_version": "1.2.0",
            "_model_name": "LayoutModel",
            "_view_count": null,
            "_view_module": "@jupyter-widgets/base",
            "_view_module_version": "1.2.0",
            "_view_name": "LayoutView",
            "align_content": null,
            "align_items": null,
            "align_self": null,
            "border": null,
            "bottom": null,
            "display": null,
            "flex": null,
            "flex_flow": null,
            "grid_area": null,
            "grid_auto_columns": null,
            "grid_auto_flow": null,
            "grid_auto_rows": null,
            "grid_column": null,
            "grid_gap": null,
            "grid_row": null,
            "grid_template_areas": null,
            "grid_template_columns": null,
            "grid_template_rows": null,
            "height": null,
            "justify_content": null,
            "justify_items": null,
            "left": null,
            "margin": null,
            "max_height": null,
            "max_width": null,
            "min_height": null,
            "min_width": null,
            "object_fit": null,
            "object_position": null,
            "order": null,
            "overflow": null,
            "overflow_x": null,
            "overflow_y": null,
            "padding": null,
            "right": null,
            "top": null,
            "visibility": null,
            "width": null
          }
        },
        "635686ab4aaf483891415a085d6e9c23": {
          "model_module": "@jupyter-widgets/controls",
          "model_name": "DescriptionStyleModel",
          "model_module_version": "1.5.0",
          "state": {
            "_model_module": "@jupyter-widgets/controls",
            "_model_module_version": "1.5.0",
            "_model_name": "DescriptionStyleModel",
            "_view_count": null,
            "_view_module": "@jupyter-widgets/base",
            "_view_module_version": "1.2.0",
            "_view_name": "StyleView",
            "description_width": ""
          }
        },
        "41375ffb5b024b79b469dd8f86ab2e5d": {
          "model_module": "@jupyter-widgets/base",
          "model_name": "LayoutModel",
          "model_module_version": "1.2.0",
          "state": {
            "_model_module": "@jupyter-widgets/base",
            "_model_module_version": "1.2.0",
            "_model_name": "LayoutModel",
            "_view_count": null,
            "_view_module": "@jupyter-widgets/base",
            "_view_module_version": "1.2.0",
            "_view_name": "LayoutView",
            "align_content": null,
            "align_items": null,
            "align_self": null,
            "border": null,
            "bottom": null,
            "display": null,
            "flex": null,
            "flex_flow": null,
            "grid_area": null,
            "grid_auto_columns": null,
            "grid_auto_flow": null,
            "grid_auto_rows": null,
            "grid_column": null,
            "grid_gap": null,
            "grid_row": null,
            "grid_template_areas": null,
            "grid_template_columns": null,
            "grid_template_rows": null,
            "height": null,
            "justify_content": null,
            "justify_items": null,
            "left": null,
            "margin": null,
            "max_height": null,
            "max_width": null,
            "min_height": null,
            "min_width": null,
            "object_fit": null,
            "object_position": null,
            "order": null,
            "overflow": null,
            "overflow_x": null,
            "overflow_y": null,
            "padding": null,
            "right": null,
            "top": null,
            "visibility": null,
            "width": null
          }
        },
        "cd84df5799a645d99d8e9e53f145a535": {
          "model_module": "@jupyter-widgets/controls",
          "model_name": "ProgressStyleModel",
          "model_module_version": "1.5.0",
          "state": {
            "_model_module": "@jupyter-widgets/controls",
            "_model_module_version": "1.5.0",
            "_model_name": "ProgressStyleModel",
            "_view_count": null,
            "_view_module": "@jupyter-widgets/base",
            "_view_module_version": "1.2.0",
            "_view_name": "StyleView",
            "bar_color": null,
            "description_width": ""
          }
        },
        "a3a1891fbeb041a19c75a68e3ac7e1ec": {
          "model_module": "@jupyter-widgets/base",
          "model_name": "LayoutModel",
          "model_module_version": "1.2.0",
          "state": {
            "_model_module": "@jupyter-widgets/base",
            "_model_module_version": "1.2.0",
            "_model_name": "LayoutModel",
            "_view_count": null,
            "_view_module": "@jupyter-widgets/base",
            "_view_module_version": "1.2.0",
            "_view_name": "LayoutView",
            "align_content": null,
            "align_items": null,
            "align_self": null,
            "border": null,
            "bottom": null,
            "display": null,
            "flex": null,
            "flex_flow": null,
            "grid_area": null,
            "grid_auto_columns": null,
            "grid_auto_flow": null,
            "grid_auto_rows": null,
            "grid_column": null,
            "grid_gap": null,
            "grid_row": null,
            "grid_template_areas": null,
            "grid_template_columns": null,
            "grid_template_rows": null,
            "height": null,
            "justify_content": null,
            "justify_items": null,
            "left": null,
            "margin": null,
            "max_height": null,
            "max_width": null,
            "min_height": null,
            "min_width": null,
            "object_fit": null,
            "object_position": null,
            "order": null,
            "overflow": null,
            "overflow_x": null,
            "overflow_y": null,
            "padding": null,
            "right": null,
            "top": null,
            "visibility": null,
            "width": null
          }
        },
        "96ea9827ffeb47c59fd46b67f9e07677": {
          "model_module": "@jupyter-widgets/controls",
          "model_name": "DescriptionStyleModel",
          "model_module_version": "1.5.0",
          "state": {
            "_model_module": "@jupyter-widgets/controls",
            "_model_module_version": "1.5.0",
            "_model_name": "DescriptionStyleModel",
            "_view_count": null,
            "_view_module": "@jupyter-widgets/base",
            "_view_module_version": "1.2.0",
            "_view_name": "StyleView",
            "description_width": ""
          }
        },
        "3ee2c64ad644426d806b8b3fe1644a09": {
          "model_module": "@jupyter-widgets/controls",
          "model_name": "HBoxModel",
          "model_module_version": "1.5.0",
          "state": {
            "_dom_classes": [],
            "_model_module": "@jupyter-widgets/controls",
            "_model_module_version": "1.5.0",
            "_model_name": "HBoxModel",
            "_view_count": null,
            "_view_module": "@jupyter-widgets/controls",
            "_view_module_version": "1.5.0",
            "_view_name": "HBoxView",
            "box_style": "",
            "children": [
              "IPY_MODEL_30f162c4034a424cb290efac53c99262",
              "IPY_MODEL_562f8b9e81f34c68b71f93e6054f2e94",
              "IPY_MODEL_1db86d90611744e3a1026a2314c284da"
            ],
            "layout": "IPY_MODEL_6b9d391adb774bb5a528eeaffd9586df"
          }
        },
        "30f162c4034a424cb290efac53c99262": {
          "model_module": "@jupyter-widgets/controls",
          "model_name": "HTMLModel",
          "model_module_version": "1.5.0",
          "state": {
            "_dom_classes": [],
            "_model_module": "@jupyter-widgets/controls",
            "_model_module_version": "1.5.0",
            "_model_name": "HTMLModel",
            "_view_count": null,
            "_view_module": "@jupyter-widgets/controls",
            "_view_module_version": "1.5.0",
            "_view_name": "HTMLView",
            "description": "",
            "description_tooltip": null,
            "layout": "IPY_MODEL_ddbadb5763d44bcea71089522e751035",
            "placeholder": "​",
            "style": "IPY_MODEL_dd24006b864d4f18bacc9dc7cbb17c70",
            "value": "100%"
          }
        },
        "562f8b9e81f34c68b71f93e6054f2e94": {
          "model_module": "@jupyter-widgets/controls",
          "model_name": "FloatProgressModel",
          "model_module_version": "1.5.0",
          "state": {
            "_dom_classes": [],
            "_model_module": "@jupyter-widgets/controls",
            "_model_module_version": "1.5.0",
            "_model_name": "FloatProgressModel",
            "_view_count": null,
            "_view_module": "@jupyter-widgets/controls",
            "_view_module_version": "1.5.0",
            "_view_name": "ProgressView",
            "bar_style": "success",
            "description": "",
            "description_tooltip": null,
            "layout": "IPY_MODEL_5a0a59eb77e142cfbcfd6d3781d5bb18",
            "max": 31,
            "min": 0,
            "orientation": "horizontal",
            "style": "IPY_MODEL_bddc4af5ee4b452792e15a777fba39d6",
            "value": 31
          }
        },
        "1db86d90611744e3a1026a2314c284da": {
          "model_module": "@jupyter-widgets/controls",
          "model_name": "HTMLModel",
          "model_module_version": "1.5.0",
          "state": {
            "_dom_classes": [],
            "_model_module": "@jupyter-widgets/controls",
            "_model_module_version": "1.5.0",
            "_model_name": "HTMLModel",
            "_view_count": null,
            "_view_module": "@jupyter-widgets/controls",
            "_view_module_version": "1.5.0",
            "_view_name": "HTMLView",
            "description": "",
            "description_tooltip": null,
            "layout": "IPY_MODEL_7e5674ae9e0a4ed78f80d42dc2f7f7cb",
            "placeholder": "​",
            "style": "IPY_MODEL_e1634e140608488ba226944c1054f5e6",
            "value": " 31/31 [00:00&lt;00:00, 960.59it/s]"
          }
        },
        "6b9d391adb774bb5a528eeaffd9586df": {
          "model_module": "@jupyter-widgets/base",
          "model_name": "LayoutModel",
          "model_module_version": "1.2.0",
          "state": {
            "_model_module": "@jupyter-widgets/base",
            "_model_module_version": "1.2.0",
            "_model_name": "LayoutModel",
            "_view_count": null,
            "_view_module": "@jupyter-widgets/base",
            "_view_module_version": "1.2.0",
            "_view_name": "LayoutView",
            "align_content": null,
            "align_items": null,
            "align_self": null,
            "border": null,
            "bottom": null,
            "display": null,
            "flex": null,
            "flex_flow": null,
            "grid_area": null,
            "grid_auto_columns": null,
            "grid_auto_flow": null,
            "grid_auto_rows": null,
            "grid_column": null,
            "grid_gap": null,
            "grid_row": null,
            "grid_template_areas": null,
            "grid_template_columns": null,
            "grid_template_rows": null,
            "height": null,
            "justify_content": null,
            "justify_items": null,
            "left": null,
            "margin": null,
            "max_height": null,
            "max_width": null,
            "min_height": null,
            "min_width": null,
            "object_fit": null,
            "object_position": null,
            "order": null,
            "overflow": null,
            "overflow_x": null,
            "overflow_y": null,
            "padding": null,
            "right": null,
            "top": null,
            "visibility": null,
            "width": null
          }
        },
        "ddbadb5763d44bcea71089522e751035": {
          "model_module": "@jupyter-widgets/base",
          "model_name": "LayoutModel",
          "model_module_version": "1.2.0",
          "state": {
            "_model_module": "@jupyter-widgets/base",
            "_model_module_version": "1.2.0",
            "_model_name": "LayoutModel",
            "_view_count": null,
            "_view_module": "@jupyter-widgets/base",
            "_view_module_version": "1.2.0",
            "_view_name": "LayoutView",
            "align_content": null,
            "align_items": null,
            "align_self": null,
            "border": null,
            "bottom": null,
            "display": null,
            "flex": null,
            "flex_flow": null,
            "grid_area": null,
            "grid_auto_columns": null,
            "grid_auto_flow": null,
            "grid_auto_rows": null,
            "grid_column": null,
            "grid_gap": null,
            "grid_row": null,
            "grid_template_areas": null,
            "grid_template_columns": null,
            "grid_template_rows": null,
            "height": null,
            "justify_content": null,
            "justify_items": null,
            "left": null,
            "margin": null,
            "max_height": null,
            "max_width": null,
            "min_height": null,
            "min_width": null,
            "object_fit": null,
            "object_position": null,
            "order": null,
            "overflow": null,
            "overflow_x": null,
            "overflow_y": null,
            "padding": null,
            "right": null,
            "top": null,
            "visibility": null,
            "width": null
          }
        },
        "dd24006b864d4f18bacc9dc7cbb17c70": {
          "model_module": "@jupyter-widgets/controls",
          "model_name": "DescriptionStyleModel",
          "model_module_version": "1.5.0",
          "state": {
            "_model_module": "@jupyter-widgets/controls",
            "_model_module_version": "1.5.0",
            "_model_name": "DescriptionStyleModel",
            "_view_count": null,
            "_view_module": "@jupyter-widgets/base",
            "_view_module_version": "1.2.0",
            "_view_name": "StyleView",
            "description_width": ""
          }
        },
        "5a0a59eb77e142cfbcfd6d3781d5bb18": {
          "model_module": "@jupyter-widgets/base",
          "model_name": "LayoutModel",
          "model_module_version": "1.2.0",
          "state": {
            "_model_module": "@jupyter-widgets/base",
            "_model_module_version": "1.2.0",
            "_model_name": "LayoutModel",
            "_view_count": null,
            "_view_module": "@jupyter-widgets/base",
            "_view_module_version": "1.2.0",
            "_view_name": "LayoutView",
            "align_content": null,
            "align_items": null,
            "align_self": null,
            "border": null,
            "bottom": null,
            "display": null,
            "flex": null,
            "flex_flow": null,
            "grid_area": null,
            "grid_auto_columns": null,
            "grid_auto_flow": null,
            "grid_auto_rows": null,
            "grid_column": null,
            "grid_gap": null,
            "grid_row": null,
            "grid_template_areas": null,
            "grid_template_columns": null,
            "grid_template_rows": null,
            "height": null,
            "justify_content": null,
            "justify_items": null,
            "left": null,
            "margin": null,
            "max_height": null,
            "max_width": null,
            "min_height": null,
            "min_width": null,
            "object_fit": null,
            "object_position": null,
            "order": null,
            "overflow": null,
            "overflow_x": null,
            "overflow_y": null,
            "padding": null,
            "right": null,
            "top": null,
            "visibility": null,
            "width": null
          }
        },
        "bddc4af5ee4b452792e15a777fba39d6": {
          "model_module": "@jupyter-widgets/controls",
          "model_name": "ProgressStyleModel",
          "model_module_version": "1.5.0",
          "state": {
            "_model_module": "@jupyter-widgets/controls",
            "_model_module_version": "1.5.0",
            "_model_name": "ProgressStyleModel",
            "_view_count": null,
            "_view_module": "@jupyter-widgets/base",
            "_view_module_version": "1.2.0",
            "_view_name": "StyleView",
            "bar_color": null,
            "description_width": ""
          }
        },
        "7e5674ae9e0a4ed78f80d42dc2f7f7cb": {
          "model_module": "@jupyter-widgets/base",
          "model_name": "LayoutModel",
          "model_module_version": "1.2.0",
          "state": {
            "_model_module": "@jupyter-widgets/base",
            "_model_module_version": "1.2.0",
            "_model_name": "LayoutModel",
            "_view_count": null,
            "_view_module": "@jupyter-widgets/base",
            "_view_module_version": "1.2.0",
            "_view_name": "LayoutView",
            "align_content": null,
            "align_items": null,
            "align_self": null,
            "border": null,
            "bottom": null,
            "display": null,
            "flex": null,
            "flex_flow": null,
            "grid_area": null,
            "grid_auto_columns": null,
            "grid_auto_flow": null,
            "grid_auto_rows": null,
            "grid_column": null,
            "grid_gap": null,
            "grid_row": null,
            "grid_template_areas": null,
            "grid_template_columns": null,
            "grid_template_rows": null,
            "height": null,
            "justify_content": null,
            "justify_items": null,
            "left": null,
            "margin": null,
            "max_height": null,
            "max_width": null,
            "min_height": null,
            "min_width": null,
            "object_fit": null,
            "object_position": null,
            "order": null,
            "overflow": null,
            "overflow_x": null,
            "overflow_y": null,
            "padding": null,
            "right": null,
            "top": null,
            "visibility": null,
            "width": null
          }
        },
        "e1634e140608488ba226944c1054f5e6": {
          "model_module": "@jupyter-widgets/controls",
          "model_name": "DescriptionStyleModel",
          "model_module_version": "1.5.0",
          "state": {
            "_model_module": "@jupyter-widgets/controls",
            "_model_module_version": "1.5.0",
            "_model_name": "DescriptionStyleModel",
            "_view_count": null,
            "_view_module": "@jupyter-widgets/base",
            "_view_module_version": "1.2.0",
            "_view_name": "StyleView",
            "description_width": ""
          }
        }
      }
    }
  },
  "nbformat": 4,
  "nbformat_minor": 0
}