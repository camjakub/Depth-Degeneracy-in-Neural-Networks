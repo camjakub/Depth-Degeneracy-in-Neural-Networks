{
  "cells": [
    {
      "cell_type": "markdown",
      "source": [
        "# Network Degeneracy as an Indicator of Training Performance\n",
        "### (CIFAR-10 Data)\n",
        "This notebook provides a summarized version of the code used to produce Figure 1 of *Network Degeneracy as an Indicator of Training Performance: Comparing Finite and Infinite Width Angle Predictions* (Jakub and Nica, 2023b). This notebook will use the CIFAR-10 dataset (Krizhevsky, 2009) smaller number of networks, and only 2 runs to allow it to run quickly on CoLab. The simulations ran in our paper used 45 different network architectures, ran 10 times each.\n",
        "\n",
        "You may run into issues with RAM if you try to run many runs of many architectures at once. Code is provided at the end of the notebook to save results, so you can run this notebook multiple times in smaller chunks and consolidate the results afterwards.\n",
        "\n",
        "Author: Cameron Jakub"
      ],
      "metadata": {
        "id": "EOPsVEpXCbN2"
      }
    },
    {
      "cell_type": "code",
      "source": [
        "# Load packages\n",
        "import numpy as np\n",
        "import matplotlib.pyplot as plt\n",
        "import matplotlib.colors\n",
        "import math\n",
        "import tensorflow as tf\n",
        "import pickle\n",
        "import os\n",
        "\n",
        "from tensorflow.keras import datasets, layers, models\n",
        "from keras.models import Sequential # sequential is the feed forward NN\n",
        "from keras.layers.core import Dense, Dropout, Activation  # layer types\n",
        "from keras.utils import np_utils\n",
        "from matplotlib.pyplot import figure\n",
        "from google.colab import output\n",
        "from pathlib import Path"
      ],
      "metadata": {
        "id": "l7AI2LuzI_xA"
      },
      "execution_count": 1,
      "outputs": []
    },
    {
      "cell_type": "markdown",
      "source": [
        "# Load & Prepare CIFAR-10 Data"
      ],
      "metadata": {
        "id": "DfGuF2ZfJU-Z"
      }
    },
    {
      "cell_type": "code",
      "source": [
        "# import the CIFAR-10 dataset\n",
        "from keras.datasets import cifar10\n",
        "\n",
        "# split into test and train, and X and Y variables\n",
        "(train_X, train_Y), (test_X, test_Y) = cifar10.load_data()"
      ],
      "metadata": {
        "id": "Q_39gDdqJXTv",
        "colab": {
          "base_uri": "https://localhost:8080/"
        },
        "outputId": "44f07355-648c-4506-9bc2-5e0eec810314"
      },
      "execution_count": 2,
      "outputs": [
        {
          "output_type": "stream",
          "name": "stdout",
          "text": [
            "Downloading data from https://www.cs.toronto.edu/~kriz/cifar-10-python.tar.gz\n",
            "170498071/170498071 [==============================] - 2s 0us/step\n"
          ]
        }
      ]
    },
    {
      "cell_type": "markdown",
      "source": [
        "Plot an image"
      ],
      "metadata": {
        "id": "3oXq0-KqLFnS"
      }
    },
    {
      "cell_type": "code",
      "source": [
        "# change the value of img to look at different images\n",
        "img = 0\n",
        "plt.imshow(train_X[img,:,:]);"
      ],
      "metadata": {
        "id": "_5NYlk_8LHwM",
        "colab": {
          "base_uri": "https://localhost:8080/",
          "height": 430
        },
        "outputId": "4ceef176-3b89-4d1b-ed5a-2b8db6636b08"
      },
      "execution_count": 3,
      "outputs": [
        {
          "output_type": "display_data",
          "data": {
            "text/plain": [
              "<Figure size 640x480 with 1 Axes>"
            ],
            "image/png": "[encoded data removed]"
          },
          "metadata": {}
        }
      ]
    },
    {
      "cell_type": "markdown",
      "source": [
        "Before fitting our data to a neural network, we first reshape the data to be a vector, and then then normalize."
      ],
      "metadata": {
        "id": "urgHvu8_LVFW"
      }
    },
    {
      "cell_type": "code",
      "source": [
        "# Reshape\n",
        "train_X = train_X.reshape(50000, 3072)\n",
        "test_X = test_X.reshape(10000, 3072)\n",
        "\n",
        "# Convert from integer to float\n",
        "train_X = train_X.astype('float32')\n",
        "\n",
        "# Normalize\n",
        "train_X = train_X/255\n",
        "test_X = test_X/255"
      ],
      "metadata": {
        "id": "wCWHkJEjLaB5"
      },
      "execution_count": 4,
      "outputs": []
    },
    {
      "cell_type": "markdown",
      "source": [
        "Now we convert the y vectors (target) to a matrix of classes, with a 1 in the appropriate class."
      ],
      "metadata": {
        "id": "Z46jGCgZLlxy"
      }
    },
    {
      "cell_type": "code",
      "source": [
        "train_y = np_utils.to_categorical(train_Y, 10)\n",
        "test_y = np_utils.to_categorical(test_Y, 10)\n",
        "test_y"
      ],
      "metadata": {
        "id": "-JS7uZR7LmgA",
        "colab": {
          "base_uri": "https://localhost:8080/"
        },
        "outputId": "904c7a31-cde7-4a64-dcb4-e2aa8a2e3541"
      },
      "execution_count": 5,
      "outputs": [
        {
          "output_type": "execute_result",
          "data": {
            "text/plain": [
              "array([[0., 0., 0., ..., 0., 0., 0.],\n",
              "       [0., 0., 0., ..., 0., 1., 0.],\n",
              "       [0., 0., 0., ..., 0., 1., 0.],\n",
              "       ...,\n",
              "       [0., 0., 0., ..., 0., 0., 0.],\n",
              "       [0., 1., 0., ..., 0., 0., 0.],\n",
              "       [0., 0., 0., ..., 1., 0., 0.]], dtype=float32)"
            ]
          },
          "metadata": {},
          "execution_count": 5
        }
      ]
    },
    {
      "cell_type": "markdown",
      "source": [
        "# Create the Networks\n",
        "We want to run each model multiple times, so we can create a confidence interval for the performance of each network. Here, we can specify number of times we want each model to run."
      ],
      "metadata": {
        "id": "TQJHOA3x_wKe"
      }
    },
    {
      "cell_type": "code",
      "source": [
        "N_runs = 2"
      ],
      "metadata": {
        "id": "mnfllkbc_yxy"
      },
      "execution_count": 6,
      "outputs": []
    },
    {
      "cell_type": "markdown",
      "source": [
        "Specify hyperparameters."
      ],
      "metadata": {
        "id": "TAlKRb8SOV3D"
      }
    },
    {
      "cell_type": "code",
      "source": [
        "# batch size\n",
        "N_batch = 100\n",
        "\n",
        "# epochs\n",
        "N_epoch = 1"
      ],
      "metadata": {
        "id": "j8NVBtOVOXyZ"
      },
      "execution_count": 7,
      "outputs": []
    },
    {
      "cell_type": "markdown",
      "source": [
        "We are studying feed-forward ReLU networks with depth $L$ and layer widths $1\\leq \\ell \\leq L$. First, we can formally define a network $f_L(x): \\mathbb{R}^{n_{in}} \\to \\mathbb{R}^{n_{out}}$. Given some input $x \\in \\mathbb{R}^{n_{in}}$, the first hidden layer of our network $z^1$ can be calculated as\n",
        "\n",
        "$$ z^1 = W^1x,$$\n",
        "\n",
        "where $W^1 \\in \\mathbb{R}^{n_1 \\times n_{in}}$ is a matrix of weights. To get from layer $\\ell$ to layer $\\ell+1$, we take the current layer and\n",
        "* apply the ReLU activation function $\\varphi(x)$ entry-wise\n",
        "* multiply by weight matrix $W^{\\ell+1}$\n",
        "* apply a normalization constant of $\\sqrt{2/n_\\ell}$\n",
        "\n",
        "$$ z^{\\ell+1} = \\sqrt{\\frac{2}{n_\\ell}}W^{\\ell+1} \\varphi(z^\\ell) $$\n",
        "\n",
        "Finally, the output of our network is simply the final layer of the network.\n",
        "\n",
        "$$ f_L(x) = z^L.$$\n",
        "\n",
        "### Details on the Normalization Constant\n",
        "\n",
        "The normalization constant we use is known as the \"He\" normalization constant (He et al., 2015). To account for this in our code, we specify the kernel initializer to be 'HeNormal\" for each layer. You may notice that this normalization constant does not appear in our calculation of the first hidden layer, $z_1$. It is common in practice to skip the normalization in the first layer, but if we don't normalize each subsequent layer, it can cause the nodes of our network to become extremely large. This is because each node of layer $\\ell+1$ is calculated as the inner product between the current layer $z^\\ell$ and the corresponding row of the weight matrix $W^{\\ell+1}$. Each inner product is a **sum** of $n_\\ell$ numbers, so without normalization, these numbers would grow unbounded layer by layer. Including the normalization constant turns the sums over $n_\\ell$ numbers into an **average** over $n_\\ell$ numbers, preventing them from \"blowing up\".\n",
        "\n",
        "For a classification problem like this one, whether we include the normalization constant or not in the first layer is equivalent to changing the temperature of the softmax function, which will not actually change how the networks classify the digits. The softmax function is defined as\n",
        "\n",
        "$$\\textrm{softmax}(z)_i = \\frac{e^{\\frac{z_i}{T}}}{\\sum_{j=1}^K e^{\\frac{z_j}{T}}} ,$$\n",
        "where $z$ is the input vector, $K$ is the number of classes, and $T$ is the temperature of the function.\n",
        "\n",
        "To be more consistent with our update rule, which was developed to predict how the inputs evolve from one *hidden layer*  to the next, we will include the normalization in the first layer - ie. $z_1 = \\sqrt{2/n_\\ell}W^1 x$, knowing that this will not actually affect the test accuracy of each network.\n",
        "\n",
        "\n",
        "We want to compare the training performance of multiple networks with various architectures. To do this easily, we create a function that will create our model based on a vector of ordered layer widths given to it."
      ],
      "metadata": {
        "id": "3eeNDQJFgu6l"
      }
    },
    {
      "cell_type": "code",
      "source": [
        "# function which returns your model based on the architecture its fed\n",
        "def create_model(layers):\n",
        "  depth = len(layers)\n",
        "  mdl = Sequential() # sequential represents a feed-forward nnet\n",
        "\n",
        "  # add first hidden layer\n",
        "  mdl.add(Dense(layers[0], input_shape=(3072,), use_bias = False, kernel_initializer = 'HeNormal'))\n",
        "\n",
        "  # add activation function\n",
        "  mdl.add(Activation('relu'))\n",
        "\n",
        "  # add rest of hidden layers\n",
        "  for i in range(1, depth):\n",
        "    mdl.add(Dense(layers[i], use_bias = False, kernel_initializer = 'HeNormal'))\n",
        "    mdl.add(Activation('relu'))\n",
        "\n",
        "  # add output layer\n",
        "  mdl.add(Dense(10, use_bias = False, kernel_initializer = 'HeNormal'))\n",
        "\n",
        "  # convert output vector to a probability vector w/ softmax\n",
        "  mdl.add(Activation('softmax'))\n",
        "\n",
        "  return mdl"
      ],
      "metadata": {
        "id": "reHHyG_gb_xD"
      },
      "execution_count": 8,
      "outputs": []
    },
    {
      "cell_type": "markdown",
      "source": [
        "Now we create a function which takes a model, compiles and trains the model, and outputs the model's test accuracy."
      ],
      "metadata": {
        "id": "2DYBWYgmhou5"
      }
    },
    {
      "cell_type": "code",
      "source": [
        "def model_score(mdl):\n",
        "  # compile the model\n",
        "  mdl.compile(loss='categorical_crossentropy', optimizer='adam', metrics=['accuracy'])\n",
        "\n",
        "  # train the model\n",
        "  mdl.fit(train_X, train_y, batch_size=N_batch, epochs=N_epoch, verbose=1)\n",
        "\n",
        "  # extract the test accuracy of the model\n",
        "  score = mdl.evaluate(test_X, test_y)[1]\n",
        "\n",
        "  return score"
      ],
      "metadata": {
        "id": "ryeHdSW3j_qH"
      },
      "execution_count": 9,
      "outputs": []
    },
    {
      "cell_type": "markdown",
      "source": [
        "Now we just need to create a bunch of model architectures, which we will define as an ordered list of hidden layer widths."
      ],
      "metadata": {
        "id": "jpNbotupm5IP"
      }
    },
    {
      "cell_type": "code",
      "source": [
        "layer_widths = []\n",
        "\n",
        "layer_widths.append(np.tile(85,2).tolist())\n",
        "layer_widths.append(np.tile(100, 10).tolist())\n",
        "layer_widths.append(np.tile(30, 15).tolist())\n",
        "layer_widths.append(np.tile(15,30).tolist())\n",
        "layer_widths.append(np.tile(75,35).tolist())\n",
        "layer_widths.append(np.tile(50, 50).tolist())"
      ],
      "metadata": {
        "id": "rAzVPyY7m4tX"
      },
      "execution_count": 10,
      "outputs": []
    },
    {
      "cell_type": "markdown",
      "source": [
        "Now let's create and train each model. For the purpose of keeping track of observations, we will also assign each model a number and keep track of the order in which each model ran. To create a plot, we also want to save the number of parameters in each model, as well as the \"score\" of each model, representing its classification accuracy on the test data.\n",
        "\n",
        "Note: the below cell may take many minutes to run, as this is where we create, train, and evaluate each of the models created."
      ],
      "metadata": {
        "id": "QjugmhmrpLV8"
      }
    },
    {
      "cell_type": "code",
      "source": [
        "models = [create_model(l) for l in layer_widths*N_runs]\n",
        "model_num = [i for i,x in list(enumerate(layer_widths))*N_runs]\n",
        "\n",
        "params = [m.count_params() for m in models]\n",
        "scores = [model_score(m) for m in models]"
      ],
      "metadata": {
        "id": "G68Ou8A6pKlB",
        "colab": {
          "base_uri": "https://localhost:8080/"
        },
        "outputId": "3d47c215-008d-4251-9a57-748e51e59a0e"
      },
      "execution_count": null,
      "outputs": [
        {
          "output_type": "stream",
          "name": "stdout",
          "text": [
            "500/500 [==============================] - 7s 3ms/step - loss: 1.9183 - accuracy: 0.3099\n",
            "313/313 [==============================] - 1s 2ms/step - loss: 1.8158 - accuracy: 0.3382\n",
            "500/500 [==============================] - 4s 5ms/step - loss: 1.9741 - accuracy: 0.2685\n",
            "313/313 [==============================] - 1s 3ms/step - loss: 1.8150 - accuracy: 0.3326\n",
            "500/500 [==============================] - 5s 4ms/step - loss: 2.0787 - accuracy: 0.1986\n",
            "313/313 [==============================] - 1s 3ms/step - loss: 1.9489 - accuracy: 0.2457\n",
            "500/500 [==============================] - 9s 6ms/step - loss: 2.2486 - accuracy: 0.1351\n",
            "313/313 [==============================] - 1s 4ms/step - loss: 2.1915 - accuracy: 0.1599\n",
            "500/500 [==============================] - 9s 7ms/step - loss: 2.1579 - accuracy: 0.1529\n",
            "313/313 [==============================] - 1s 4ms/step - loss: 2.0729 - accuracy: 0.1698\n",
            "500/500 [==============================] - 14s 10ms/step - loss: 2.2046 - accuracy: 0.1135\n",
            "313/313 [==============================] - 1s 4ms/step - loss: 2.0977 - accuracy: 0.1684\n",
            "500/500 [==============================] - 2s 3ms/step - loss: 1.9061 - accuracy: 0.3129\n",
            "313/313 [==============================] - 1s 2ms/step - loss: 1.7644 - accuracy: 0.3725\n",
            "500/500 [==============================] - 5s 5ms/step - loss: 1.9722 - accuracy: 0.2693\n",
            "313/313 [==============================] - 1s 3ms/step - loss: 1.8611 - accuracy: 0.3276\n",
            "500/500 [==============================] - 5s 4ms/step - loss: 2.0977 - accuracy: 0.1856\n",
            "313/313 [==============================] - 1s 3ms/step - loss: 1.9658 - accuracy: 0.2544\n",
            "500/500 [==============================] - 8s 6ms/step - loss: 2.2102 - accuracy: 0.1400\n",
            "313/313 [==============================] - 2s 4ms/step - loss: 2.0985 - accuracy: 0.1556\n"
          ]
        }
      ]
    },
    {
      "cell_type": "markdown",
      "source": [
        "# Predict the Angle at Layer $L$\n",
        "\n",
        "At the core of our predictions is the function $\\mu(\\theta,n)$, defined in Theorem 1 of Jakub and Nica (2023a). Given the angle between inputs at the current layer ($\\theta^\\ell$), the function $\\mu(\\theta_\\ell, n_\\ell)$ is used to approximate $\\ln(\\sin^2(\\theta^{\\ell+1}))$:\n",
        "\n",
        "$$\\mathbf{E}[\\ln(\\sin^2(\\theta^{\\ell+1}))] = \\mu(\\theta^\\ell, n_\\ell) + \\mathcal{O}(n_\\ell^{-2}).$$\n",
        "\n",
        "We define $\\mu$ in terms of a family of $J$ functions which represent the joint moments of the ReLU activation function applied to Gaussian variables. For more on the $J$ functions, see Section 3 of Jakub and Nica (2023a).\n",
        "\n",
        "Here, we define the necessary $J$ functions ($J_{1,1}(\\theta), J_{2,2}(\\theta), J_{3,1}(\\theta)$)."
      ],
      "metadata": {
        "id": "-GzzFgC4aLzY"
      }
    },
    {
      "cell_type": "code",
      "source": [
        "j11 = lambda th: (np.sin(th) + (np.pi - th)*np.cos(th))/(2*np.pi)\n",
        "\n",
        "j22 = lambda th: ((np.pi-th)*(2*np.cos(th)**2 + 1) + 3*np.sin(th)*np.cos(th))/(2*np.pi)\n",
        "\n",
        "j31 = lambda th: (3*(np.pi-th)*np.cos(th) + np.sin(th)*np.cos(th)**2 + 2*np.sin(th))/(2*np.pi)"
      ],
      "metadata": {
        "id": "1tJk0twcayfW"
      },
      "execution_count": null,
      "outputs": []
    },
    {
      "cell_type": "markdown",
      "source": [
        "Now, define our formula for $\\mu(\\theta, n)$ in terms of the $J$ functions:\n",
        "\n",
        "$$\\mu(\\theta,n) := \\ln \\left( \\frac{(n-1)(1-4J_{1,1}^2)}{4J_{2,2}-1+n}\\right)+ \\frac{ 4(J_{2,2}+1)}{n\\left(\\frac{4J_{2,2}-1}{n}+1\\right)^2}-  \\frac{4\\left(8J_{1,1}^2J_{2,2} - 8J_{1,1}^4 + 4J_{1,1}^2 - 8J_{1,1}J_{3,1} + J_{2,2} + 1 \\right) }{n\\left( 1-\\frac{1}{n} \\right)^2 \\left( 1 - 4 J_{1,1}^2 \\right)^2 }. $$\n",
        "\n"
      ],
      "metadata": {
        "id": "Gt-Whdvta1Gy"
      }
    },
    {
      "cell_type": "code",
      "source": [
        "def mu(th, n):\n",
        "  return np.log((n-1)*(1-4*j11(th)**2)/(4*j22(th)-1+n)) \\\n",
        "         + 4*(j22(th)+1)/(n*((4*j22(th)-1)/n + 1)**2) \\\n",
        "         - 4*(8*j11(th)**2*j22(th) - 8*j11(th)**4 + 4*j11(th)**2 - 8*j11(th)*j31(th) + j22(th) +1) \\\n",
        "         /((n-1)**2*(1-4*j11(th)**2)**2/n)"
      ],
      "metadata": {
        "id": "67ulIA4laSWl"
      },
      "execution_count": null,
      "outputs": []
    },
    {
      "cell_type": "markdown",
      "source": [
        "We now have $\\mu$ properly defined, which is at the heart of our prediction algorithm. Using the width of each layer, we can predict the angle between 2 orthogonal inputs at the final layer of each network.\n",
        "\n",
        "$$ \\ln(\\sin^2(\\theta^{\\ell+1})) = \\mu(\\theta^\\ell, n_\\ell).$$\n"
      ],
      "metadata": {
        "id": "yZUkLHeZeSvD"
      }
    },
    {
      "cell_type": "code",
      "source": [
        "def theta_L(width_vector):\n",
        "  net_depth = np.shape(width_vector)[0]-1\n",
        "\n",
        "  # Create vector to store theta values at each layer\n",
        "  theta = np.zeros((net_depth+1,1))\n",
        "\n",
        "  # Create the starting angle, representing orthogonal inputs\n",
        "  theta[0] = np.pi/2\n",
        "\n",
        "  # loop to predict theta at layer L\n",
        "  for i in range(net_depth):\n",
        "    # predict E[ln(sin^2(th))] at the next layer\n",
        "    ln_sinsq_th = mu(theta[i], width_vector[i])\n",
        "\n",
        "    # convert ln(sin^2(th)) back to th\n",
        "    theta[i+1] = np.arcsin(np.exp(ln_sinsq_th/2))\n",
        "\n",
        "  return theta[net_depth][0]"
      ],
      "metadata": {
        "id": "wcoVnEWuSpU3"
      },
      "execution_count": null,
      "outputs": []
    },
    {
      "cell_type": "markdown",
      "source": [
        "To get the full architecture of the network, we will add the dimension of the input and output layer to our vector of hidden layer widths."
      ],
      "metadata": {
        "id": "96-RVazFxgS-"
      }
    },
    {
      "cell_type": "code",
      "source": [
        "N_in = 3072\n",
        "N_out = 10\n",
        "\n",
        "for l in layer_widths:\n",
        "  l.insert(0,N_in)\n",
        "  l.append(N_out)"
      ],
      "metadata": {
        "id": "igd_JkDzwnZg"
      },
      "execution_count": null,
      "outputs": []
    },
    {
      "cell_type": "markdown",
      "source": [
        "We are now ready to compute the final angle between inputs for each trained network:"
      ],
      "metadata": {
        "id": "sXUnJZ9D1qz5"
      }
    },
    {
      "cell_type": "code",
      "source": [
        "thetas = [theta_L(l) for l in layer_widths*N_runs]"
      ],
      "metadata": {
        "id": "Y7DYH2QJ1o84"
      },
      "execution_count": null,
      "outputs": []
    },
    {
      "cell_type": "markdown",
      "source": [
        "# Plotting\n",
        "We want to create error bars for each network used. To do this, we group together observations which came from the same network architectures.\n"
      ],
      "metadata": {
        "id": "KhWIl0-Wm0dl"
      }
    },
    {
      "cell_type": "code",
      "source": [
        "def plot_data(params, thetas, model_num, scores):\n",
        "  # for repeated runs of the same architecture, the final predicted angle and\n",
        "  # the number of parameters will not change. Therefore, for each architecure,\n",
        "  # we only need to store this value once\n",
        "  thetas_plot = [thetas[i] for i in set(model_num)]\n",
        "  params_plot = [params[i] for i in set(model_num)]\n",
        "\n",
        "  # For each architecture, we want to use the multiple runs to create an error\n",
        "  # bar for test performance. Here, we use the multiple runs to calculate the\n",
        "  # mean and error margin for a 95% confidence interval\n",
        "  means = []\n",
        "  err_margins = []\n",
        "\n",
        "  for n in set(model_num):\n",
        "    # find the indices of the current model\n",
        "    idx = [i for i,j in enumerate(model_num) if j==n]\n",
        "\n",
        "    # create an error bar for the scores corresponding to current theta value\n",
        "    theta_scores = [scores[i] for i in idx]\n",
        "\n",
        "    # calculate the mean\n",
        "    means.append(np.mean(theta_scores))\n",
        "\n",
        "    # calculate standard error\n",
        "    std_error = np.std(theta_scores)/np.sqrt(10)\n",
        "    err_margins.append(std_error*1.96)\n",
        "\n",
        "  return params_plot, thetas_plot, means, err_margins"
      ],
      "metadata": {
        "id": "xgMLiWA37qyt"
      },
      "execution_count": null,
      "outputs": []
    },
    {
      "cell_type": "markdown",
      "source": [
        "We will express the colorbar in terms of $\\log_{10}(\\# \\textrm{ of parameters})$, and we will plot the $\\theta$ values on the $x$ axis as $\\ln(\\sin^2(\\theta))$ to be consistent with $\\mu(\\theta,n)$, which we used to predict $\\mathbf{E}[\\ln(\\sin^2(\\theta))]$."
      ],
      "metadata": {
        "id": "Vtp1IWDIEwja"
      }
    },
    {
      "cell_type": "code",
      "source": [
        "params_plot, thetas_plot, means, err_margins = plot_data(params, thetas, model_num, scores)\n",
        "\n",
        "log_params = [math.log10(p) for p in params_plot]\n",
        "log_thetas = [np.log(np.sin(th)**2) for th in thetas_plot]"
      ],
      "metadata": {
        "id": "B-Z5H3i2FTW6"
      },
      "execution_count": null,
      "outputs": []
    },
    {
      "cell_type": "markdown",
      "source": [
        "Finally, we are ready to plot the results."
      ],
      "metadata": {
        "id": "Kqh8mTE3BrA2"
      }
    },
    {
      "cell_type": "code",
      "source": [
        "# Plot\n",
        "plt.figure(figsize=(6, 4), dpi = 150)\n",
        "\n",
        "plt.scatter(log_thetas, means, c = log_params, cmap = 'viridis', marker = '.')\n",
        "plt.xlim([-14,0])\n",
        "plt.xlabel(\"$\\\\ln(\\\\sin^2(\\\\theta^L))$\", fontsize = 14)\n",
        "plt.ylabel(\"Test Accuracy\", fontsize = 14)\n",
        "plt.title('Finite Width Prediction', fontsize = 16)\n",
        "\n",
        "# add in colourbar\n",
        "cbar = plt.colorbar(pad=0.01)\n",
        "\n",
        "# add in coloured error bars\n",
        "cmap = plt.cm.viridis\n",
        "norm = matplotlib.colors.Normalize()\n",
        "plt.errorbar(log_thetas, means, yerr=err_margins, ls='none', ecolor = cmap(norm(log_params)))"
      ],
      "metadata": {
        "id": "IheUv2H9WPwe"
      },
      "execution_count": null,
      "outputs": []
    },
    {
      "cell_type": "markdown",
      "source": [
        "# Optional: Save Plotting Data to Google Drive\n",
        "If you wish to run and plot many network architectures at once, it is likely you will run out of available RAM on CoLab. The below code can be used to save your results to a file on your Google Drive. You can then change the network architectures and re-run the notebook, and the results will be appended to the files created on the first run."
      ],
      "metadata": {
        "id": "GM9GrJQUAYVX"
      }
    },
    {
      "cell_type": "code",
      "source": [
        "# mount google drive to save files\n",
        "from google.colab import drive\n",
        "drive.mount('/content/drive/')"
      ],
      "metadata": {
        "id": "9lhOff6tOuin"
      },
      "execution_count": null,
      "outputs": []
    },
    {
      "cell_type": "markdown",
      "source": [
        "Here we make 2 functions which allow us to retrieve data from old runs, and update files on our Google Drive to include the data from new runs."
      ],
      "metadata": {
        "id": "0K5IDc0Xv0hv"
      }
    },
    {
      "cell_type": "code",
      "source": [
        "def retrieve_file(path):\n",
        "  with open(path, 'rb') as fp:\n",
        "    return pickle.load(fp)\n",
        "\n",
        "def update_file(path, data):\n",
        "  with open(path, 'wb') as fp:\n",
        "    pickle.dump(data, fp)"
      ],
      "metadata": {
        "id": "ao3RgxwcvHj6"
      },
      "execution_count": null,
      "outputs": []
    },
    {
      "cell_type": "code",
      "source": [
        "# specify path which data will be saved in your Google Drive\n",
        "mypath = Path('/content/drive/My Drive/insert_path') # update this line with your desired path\n",
        "\n",
        "# create the path names for each of the files you will be saving\n",
        "params_path = Path.joinpath(mypath, 'params_file')\n",
        "thetas_path = Path.joinpath(mypath, 'thetas_file')\n",
        "means_path = Path.joinpath(mypath, 'mean_score_file')\n",
        "err_margins_path = Path.joinpath(mypath, 'err_margins_file')\n",
        "\n",
        "# check if these files have been saved before\n",
        "if os.path.exists(params_path):\n",
        "\n",
        "  # open files from previous runs\n",
        "  params_old = retrieve_file(params_path)\n",
        "  thetas_old = retrieve_file(thetas_path)\n",
        "  means_old = retrieve_file(means_path)\n",
        "  err_margins_old = retrieve_file(err_margins_path)\n",
        "\n",
        "  # Extend the current lists to include the data from past runs\n",
        "  params_plot.extend(params_old)\n",
        "  thetas_plot.extend(thetas_old)\n",
        "  means.extend(means_old)\n",
        "  err_margins.extend(err_margins_old)"
      ],
      "metadata": {
        "id": "2vI_NIc2PRyX"
      },
      "execution_count": null,
      "outputs": []
    },
    {
      "cell_type": "markdown",
      "source": [
        "Now that our variables include all the data from the current run, plus the data from previous runs, we can update the files on our drive."
      ],
      "metadata": {
        "id": "xEYt22wePTub"
      }
    },
    {
      "cell_type": "code",
      "source": [
        "params_old = update_file(params_path, params_plot)\n",
        "thetas_old = update_file(thetas_path, thetas_plot)\n",
        "means_old = update_file(means_path, means)\n",
        "err_margins_old = update_file(err_margins_path, err_margins)"
      ],
      "metadata": {
        "id": "a-zt2sLQPWPJ"
      },
      "execution_count": null,
      "outputs": []
    },
    {
      "cell_type": "markdown",
      "source": [
        "# References\n",
        "\n",
        "Kaiming He, Xiangyu Zhang, Shaoqing Ren, and Jian Sun. Delving deep into recti-\n",
        "fiers: Surpassing human-level performance on imagenet classification. In 2015 IEEE\n",
        "International Conference on Computer Vision (ICCV), pages 1026–1034, 2015. doi:\n",
        "10.1109/ICCV.2015.123\n",
        "\n",
        "Cameron Jakub and Mihai Nica. Depth degeneracy in neural networks: Vanishing angles in\n",
        "fully connected ReLU networks on initialization, 2023a. URL https://arxiv.org/abs/2302.09712\n",
        "\n",
        "Cameron Jakub and Mihai Nica. Network degeneracy as an indicator of training performance: Comparing finite and infinite width angle predictions, 2023b. URL https://arxiv.org/abs/2306.01513\n",
        "\n",
        "Alex Krizhevsky. Learning multiple layers of features from tiny images. pages 32–33, 2009. URL https://www.cs.toronto.edu/ ̃kriz/learning-features-2009-TR.pdf\n",
        "\n"
      ],
      "metadata": {
        "id": "lXu5Amgx_N_0"
      }
    }
  ],
  "metadata": {
    "accelerator": "GPU",
    "colab": {
      "provenance": []
    },
    "kernelspec": {
      "display_name": "Python 3",
      "name": "python3"
    },
    "language_info": {
      "name": "python"
    }
  },
  "nbformat": 4,
  "nbformat_minor": 0
}